{
 "cells": [
  {
   "cell_type": "markdown",
   "metadata": {},
   "source": [
    "# ML Pipeline Preparation\n",
    "Follow the instructions below to help you create your ML pipeline.\n",
    "### 1. Import libraries and load data from database.\n",
    "- Import Python libraries\n",
    "- Load dataset from database with [`read_sql_table`](https://pandas.pydata.org/pandas-docs/stable/generated/pandas.read_sql_table.html)\n",
    "- Define feature and target variables X and Y"
   ]
  },
  {
   "cell_type": "code",
   "execution_count": 90,
   "metadata": {
    "ExecuteTime": {
     "end_time": "2019-07-10T09:49:44.436124Z",
     "start_time": "2019-07-10T09:49:44.429292Z"
    }
   },
   "outputs": [],
   "source": [
    "# import libraries\n",
    "import pandas as pd\n",
    "import numpy as np\n",
    "from sqlalchemy import create_engine\n",
    "\n",
    "from sklearn.pipeline import Pipeline\n",
    "from sklearn.model_selection import GridSearchCV, train_test_split\n",
    "from sklearn.feature_extraction.text import CountVectorizer, TfidfTransformer\n",
    "from sklearn.ensemble import RandomForestClassifier\n",
    "from sklearn.multioutput import MultiOutputClassifier\n",
    "from sklearn.metrics import recall_score, accuracy_score, precision_score, f1_score, make_scorer\n",
    "from sklearn.linear_model import LogisticRegression\n",
    "\n",
    "import re\n",
    "import nltk\n",
    "from nltk.tokenize import word_tokenize\n",
    "from nltk.corpus import stopwords\n",
    "from nltk.stem.wordnet import WordNetLemmatizer\n",
    "\n",
    "import pickle\n",
    "\n",
    "import warnings\n",
    "\n",
    "warnings.filterwarnings(\"ignore\")"
   ]
  },
  {
   "cell_type": "code",
   "execution_count": 7,
   "metadata": {
    "ExecuteTime": {
     "end_time": "2019-07-09T07:54:51.561160Z",
     "start_time": "2019-07-09T07:54:50.984779Z"
    }
   },
   "outputs": [],
   "source": [
    "# load data from database\n",
    "engine = create_engine('sqlite:///Messages.db')\n",
    "df = pd.read_sql('SELECT * FROM Messages', engine)\n",
    "X = df['message']\n",
    "Y = df.drop(['id', 'message', 'original', 'genre'], axis=1)"
   ]
  },
  {
   "cell_type": "markdown",
   "metadata": {},
   "source": [
    "### 2. Write a tokenization function to process your text data"
   ]
  },
  {
   "cell_type": "code",
   "execution_count": 9,
   "metadata": {
    "ExecuteTime": {
     "end_time": "2019-07-09T08:00:52.889156Z",
     "start_time": "2019-07-09T08:00:52.882326Z"
    }
   },
   "outputs": [],
   "source": [
    "def tokenize(text):\n",
    "    \"\"\"\n",
    "    Normalize, tokenize, remove stopwords and lemmatize words\n",
    "    \n",
    "    params:\n",
    "    text: str. Messages for preprocessing\n",
    "    \n",
    "    returns:\n",
    "    clean_tokens: list of strings. Containing tokenize words\n",
    "    \"\"\"\n",
    "    # Normalize text\n",
    "    text = re.sub(r\"[^a-zA-Z0-9]\", \" \", text.lower())\n",
    "    \n",
    "    # tokenize text\n",
    "    tokens = word_tokenize(text)\n",
    "    \n",
    "    # Initialize Lemmatizer\n",
    "    lemma = WordNetLemmatizer()\n",
    "    \n",
    "    lemmed = [lemma.lemmatize(w) for w in tokens if w not in stopwords.words(\"english\")]\n",
    "    \n",
    "    return lemmed"
   ]
  },
  {
   "cell_type": "code",
   "execution_count": 15,
   "metadata": {
    "ExecuteTime": {
     "end_time": "2019-07-09T08:02:10.255822Z",
     "start_time": "2019-07-09T08:02:10.245087Z"
    }
   },
   "outputs": [
    {
     "name": "stdout",
     "output_type": "stream",
     "text": [
      "Weather update - a cold front from Cuba that could pass over Haiti\n",
      "['weather', 'update', 'cold', 'front', 'cuba', 'could', 'pas', 'haiti']\n"
     ]
    }
   ],
   "source": [
    "# Test the tokenizer\n",
    "text = X[0]\n",
    "cleaned_tokens = tokenize(text)\n",
    "print(text)\n",
    "print(cleaned_tokens)"
   ]
  },
  {
   "cell_type": "markdown",
   "metadata": {},
   "source": [
    "### 3. Build a machine learning pipeline\n",
    "This machine pipeline should take in the `message` column as input and output classification results on the other 36 categories in the dataset. You may find the [MultiOutputClassifier](http://scikit-learn.org/stable/modules/generated/sklearn.multioutput.MultiOutputClassifier.html) helpful for predicting multiple target variables."
   ]
  },
  {
   "cell_type": "code",
   "execution_count": 24,
   "metadata": {
    "ExecuteTime": {
     "end_time": "2019-07-09T08:30:25.362413Z",
     "start_time": "2019-07-09T08:30:25.358510Z"
    }
   },
   "outputs": [],
   "source": [
    "pipeline = Pipeline([\n",
    "    ('vect', CountVectorizer(tokenizer=tokenize)),\n",
    "    ('tfidf', TfidfTransformer()),\n",
    "    ('clf', MultiOutputClassifier(RandomForestClassifier()))\n",
    "])"
   ]
  },
  {
   "cell_type": "markdown",
   "metadata": {},
   "source": [
    "### 4. Train pipeline\n",
    "- Split data into train and test sets\n",
    "- Train pipeline"
   ]
  },
  {
   "cell_type": "code",
   "execution_count": 25,
   "metadata": {
    "ExecuteTime": {
     "end_time": "2019-07-09T08:33:39.774338Z",
     "start_time": "2019-07-09T08:30:26.384443Z"
    }
   },
   "outputs": [
    {
     "name": "stderr",
     "output_type": "stream",
     "text": [
      "C:\\Users\\andre\\Anaconda3\\envs\\data-science\\lib\\site-packages\\sklearn\\ensemble\\forest.py:245: FutureWarning: The default value of n_estimators will change from 10 in version 0.20 to 100 in 0.22.\n",
      "  \"10 in version 0.20 to 100 in 0.22.\", FutureWarning)\n",
      "C:\\Users\\andre\\Anaconda3\\envs\\data-science\\lib\\site-packages\\sklearn\\ensemble\\forest.py:245: FutureWarning: The default value of n_estimators will change from 10 in version 0.20 to 100 in 0.22.\n",
      "  \"10 in version 0.20 to 100 in 0.22.\", FutureWarning)\n",
      "C:\\Users\\andre\\Anaconda3\\envs\\data-science\\lib\\site-packages\\sklearn\\ensemble\\forest.py:245: FutureWarning: The default value of n_estimators will change from 10 in version 0.20 to 100 in 0.22.\n",
      "  \"10 in version 0.20 to 100 in 0.22.\", FutureWarning)\n",
      "C:\\Users\\andre\\Anaconda3\\envs\\data-science\\lib\\site-packages\\sklearn\\ensemble\\forest.py:245: FutureWarning: The default value of n_estimators will change from 10 in version 0.20 to 100 in 0.22.\n",
      "  \"10 in version 0.20 to 100 in 0.22.\", FutureWarning)\n",
      "C:\\Users\\andre\\Anaconda3\\envs\\data-science\\lib\\site-packages\\sklearn\\ensemble\\forest.py:245: FutureWarning: The default value of n_estimators will change from 10 in version 0.20 to 100 in 0.22.\n",
      "  \"10 in version 0.20 to 100 in 0.22.\", FutureWarning)\n",
      "C:\\Users\\andre\\Anaconda3\\envs\\data-science\\lib\\site-packages\\sklearn\\ensemble\\forest.py:245: FutureWarning: The default value of n_estimators will change from 10 in version 0.20 to 100 in 0.22.\n",
      "  \"10 in version 0.20 to 100 in 0.22.\", FutureWarning)\n",
      "C:\\Users\\andre\\Anaconda3\\envs\\data-science\\lib\\site-packages\\sklearn\\ensemble\\forest.py:245: FutureWarning: The default value of n_estimators will change from 10 in version 0.20 to 100 in 0.22.\n",
      "  \"10 in version 0.20 to 100 in 0.22.\", FutureWarning)\n",
      "C:\\Users\\andre\\Anaconda3\\envs\\data-science\\lib\\site-packages\\sklearn\\ensemble\\forest.py:245: FutureWarning: The default value of n_estimators will change from 10 in version 0.20 to 100 in 0.22.\n",
      "  \"10 in version 0.20 to 100 in 0.22.\", FutureWarning)\n",
      "C:\\Users\\andre\\Anaconda3\\envs\\data-science\\lib\\site-packages\\sklearn\\ensemble\\forest.py:245: FutureWarning: The default value of n_estimators will change from 10 in version 0.20 to 100 in 0.22.\n",
      "  \"10 in version 0.20 to 100 in 0.22.\", FutureWarning)\n",
      "C:\\Users\\andre\\Anaconda3\\envs\\data-science\\lib\\site-packages\\sklearn\\ensemble\\forest.py:245: FutureWarning: The default value of n_estimators will change from 10 in version 0.20 to 100 in 0.22.\n",
      "  \"10 in version 0.20 to 100 in 0.22.\", FutureWarning)\n",
      "C:\\Users\\andre\\Anaconda3\\envs\\data-science\\lib\\site-packages\\sklearn\\ensemble\\forest.py:245: FutureWarning: The default value of n_estimators will change from 10 in version 0.20 to 100 in 0.22.\n",
      "  \"10 in version 0.20 to 100 in 0.22.\", FutureWarning)\n",
      "C:\\Users\\andre\\Anaconda3\\envs\\data-science\\lib\\site-packages\\sklearn\\ensemble\\forest.py:245: FutureWarning: The default value of n_estimators will change from 10 in version 0.20 to 100 in 0.22.\n",
      "  \"10 in version 0.20 to 100 in 0.22.\", FutureWarning)\n",
      "C:\\Users\\andre\\Anaconda3\\envs\\data-science\\lib\\site-packages\\sklearn\\ensemble\\forest.py:245: FutureWarning: The default value of n_estimators will change from 10 in version 0.20 to 100 in 0.22.\n",
      "  \"10 in version 0.20 to 100 in 0.22.\", FutureWarning)\n",
      "C:\\Users\\andre\\Anaconda3\\envs\\data-science\\lib\\site-packages\\sklearn\\ensemble\\forest.py:245: FutureWarning: The default value of n_estimators will change from 10 in version 0.20 to 100 in 0.22.\n",
      "  \"10 in version 0.20 to 100 in 0.22.\", FutureWarning)\n",
      "C:\\Users\\andre\\Anaconda3\\envs\\data-science\\lib\\site-packages\\sklearn\\ensemble\\forest.py:245: FutureWarning: The default value of n_estimators will change from 10 in version 0.20 to 100 in 0.22.\n",
      "  \"10 in version 0.20 to 100 in 0.22.\", FutureWarning)\n",
      "C:\\Users\\andre\\Anaconda3\\envs\\data-science\\lib\\site-packages\\sklearn\\ensemble\\forest.py:245: FutureWarning: The default value of n_estimators will change from 10 in version 0.20 to 100 in 0.22.\n",
      "  \"10 in version 0.20 to 100 in 0.22.\", FutureWarning)\n",
      "C:\\Users\\andre\\Anaconda3\\envs\\data-science\\lib\\site-packages\\sklearn\\ensemble\\forest.py:245: FutureWarning: The default value of n_estimators will change from 10 in version 0.20 to 100 in 0.22.\n",
      "  \"10 in version 0.20 to 100 in 0.22.\", FutureWarning)\n",
      "C:\\Users\\andre\\Anaconda3\\envs\\data-science\\lib\\site-packages\\sklearn\\ensemble\\forest.py:245: FutureWarning: The default value of n_estimators will change from 10 in version 0.20 to 100 in 0.22.\n",
      "  \"10 in version 0.20 to 100 in 0.22.\", FutureWarning)\n",
      "C:\\Users\\andre\\Anaconda3\\envs\\data-science\\lib\\site-packages\\sklearn\\ensemble\\forest.py:245: FutureWarning: The default value of n_estimators will change from 10 in version 0.20 to 100 in 0.22.\n",
      "  \"10 in version 0.20 to 100 in 0.22.\", FutureWarning)\n",
      "C:\\Users\\andre\\Anaconda3\\envs\\data-science\\lib\\site-packages\\sklearn\\ensemble\\forest.py:245: FutureWarning: The default value of n_estimators will change from 10 in version 0.20 to 100 in 0.22.\n",
      "  \"10 in version 0.20 to 100 in 0.22.\", FutureWarning)\n",
      "C:\\Users\\andre\\Anaconda3\\envs\\data-science\\lib\\site-packages\\sklearn\\ensemble\\forest.py:245: FutureWarning: The default value of n_estimators will change from 10 in version 0.20 to 100 in 0.22.\n",
      "  \"10 in version 0.20 to 100 in 0.22.\", FutureWarning)\n",
      "C:\\Users\\andre\\Anaconda3\\envs\\data-science\\lib\\site-packages\\sklearn\\ensemble\\forest.py:245: FutureWarning: The default value of n_estimators will change from 10 in version 0.20 to 100 in 0.22.\n",
      "  \"10 in version 0.20 to 100 in 0.22.\", FutureWarning)\n",
      "C:\\Users\\andre\\Anaconda3\\envs\\data-science\\lib\\site-packages\\sklearn\\ensemble\\forest.py:245: FutureWarning: The default value of n_estimators will change from 10 in version 0.20 to 100 in 0.22.\n",
      "  \"10 in version 0.20 to 100 in 0.22.\", FutureWarning)\n",
      "C:\\Users\\andre\\Anaconda3\\envs\\data-science\\lib\\site-packages\\sklearn\\ensemble\\forest.py:245: FutureWarning: The default value of n_estimators will change from 10 in version 0.20 to 100 in 0.22.\n",
      "  \"10 in version 0.20 to 100 in 0.22.\", FutureWarning)\n",
      "C:\\Users\\andre\\Anaconda3\\envs\\data-science\\lib\\site-packages\\sklearn\\ensemble\\forest.py:245: FutureWarning: The default value of n_estimators will change from 10 in version 0.20 to 100 in 0.22.\n",
      "  \"10 in version 0.20 to 100 in 0.22.\", FutureWarning)\n",
      "C:\\Users\\andre\\Anaconda3\\envs\\data-science\\lib\\site-packages\\sklearn\\ensemble\\forest.py:245: FutureWarning: The default value of n_estimators will change from 10 in version 0.20 to 100 in 0.22.\n",
      "  \"10 in version 0.20 to 100 in 0.22.\", FutureWarning)\n",
      "C:\\Users\\andre\\Anaconda3\\envs\\data-science\\lib\\site-packages\\sklearn\\ensemble\\forest.py:245: FutureWarning: The default value of n_estimators will change from 10 in version 0.20 to 100 in 0.22.\n",
      "  \"10 in version 0.20 to 100 in 0.22.\", FutureWarning)\n",
      "C:\\Users\\andre\\Anaconda3\\envs\\data-science\\lib\\site-packages\\sklearn\\ensemble\\forest.py:245: FutureWarning: The default value of n_estimators will change from 10 in version 0.20 to 100 in 0.22.\n",
      "  \"10 in version 0.20 to 100 in 0.22.\", FutureWarning)\n",
      "C:\\Users\\andre\\Anaconda3\\envs\\data-science\\lib\\site-packages\\sklearn\\ensemble\\forest.py:245: FutureWarning: The default value of n_estimators will change from 10 in version 0.20 to 100 in 0.22.\n",
      "  \"10 in version 0.20 to 100 in 0.22.\", FutureWarning)\n",
      "C:\\Users\\andre\\Anaconda3\\envs\\data-science\\lib\\site-packages\\sklearn\\ensemble\\forest.py:245: FutureWarning: The default value of n_estimators will change from 10 in version 0.20 to 100 in 0.22.\n",
      "  \"10 in version 0.20 to 100 in 0.22.\", FutureWarning)\n",
      "C:\\Users\\andre\\Anaconda3\\envs\\data-science\\lib\\site-packages\\sklearn\\ensemble\\forest.py:245: FutureWarning: The default value of n_estimators will change from 10 in version 0.20 to 100 in 0.22.\n",
      "  \"10 in version 0.20 to 100 in 0.22.\", FutureWarning)\n",
      "C:\\Users\\andre\\Anaconda3\\envs\\data-science\\lib\\site-packages\\sklearn\\ensemble\\forest.py:245: FutureWarning: The default value of n_estimators will change from 10 in version 0.20 to 100 in 0.22.\n",
      "  \"10 in version 0.20 to 100 in 0.22.\", FutureWarning)\n",
      "C:\\Users\\andre\\Anaconda3\\envs\\data-science\\lib\\site-packages\\sklearn\\ensemble\\forest.py:245: FutureWarning: The default value of n_estimators will change from 10 in version 0.20 to 100 in 0.22.\n",
      "  \"10 in version 0.20 to 100 in 0.22.\", FutureWarning)\n"
     ]
    },
    {
     "name": "stderr",
     "output_type": "stream",
     "text": [
      "C:\\Users\\andre\\Anaconda3\\envs\\data-science\\lib\\site-packages\\sklearn\\ensemble\\forest.py:245: FutureWarning: The default value of n_estimators will change from 10 in version 0.20 to 100 in 0.22.\n",
      "  \"10 in version 0.20 to 100 in 0.22.\", FutureWarning)\n",
      "C:\\Users\\andre\\Anaconda3\\envs\\data-science\\lib\\site-packages\\sklearn\\ensemble\\forest.py:245: FutureWarning: The default value of n_estimators will change from 10 in version 0.20 to 100 in 0.22.\n",
      "  \"10 in version 0.20 to 100 in 0.22.\", FutureWarning)\n"
     ]
    },
    {
     "data": {
      "text/plain": [
       "Pipeline(memory=None,\n",
       "         steps=[('vect',\n",
       "                 CountVectorizer(analyzer='word', binary=False,\n",
       "                                 decode_error='strict',\n",
       "                                 dtype=<class 'numpy.int64'>, encoding='utf-8',\n",
       "                                 input='content', lowercase=True, max_df=1.0,\n",
       "                                 max_features=None, min_df=1,\n",
       "                                 ngram_range=(1, 1), preprocessor=None,\n",
       "                                 stop_words=None, strip_accents=None,\n",
       "                                 token_pattern='(?u)\\\\b\\\\w\\\\w+\\\\b',\n",
       "                                 tokenizer=<function tokenize at...\n",
       "                 MultiOutputClassifier(estimator=RandomForestClassifier(bootstrap=True,\n",
       "                                                                        class_weight=None,\n",
       "                                                                        criterion='gini',\n",
       "                                                                        max_depth=None,\n",
       "                                                                        max_features='auto',\n",
       "                                                                        max_leaf_nodes=None,\n",
       "                                                                        min_impurity_decrease=0.0,\n",
       "                                                                        min_impurity_split=None,\n",
       "                                                                        min_samples_leaf=1,\n",
       "                                                                        min_samples_split=2,\n",
       "                                                                        min_weight_fraction_leaf=0.0,\n",
       "                                                                        n_estimators='warn',\n",
       "                                                                        n_jobs=None,\n",
       "                                                                        oob_score=False,\n",
       "                                                                        random_state=None,\n",
       "                                                                        verbose=0,\n",
       "                                                                        warm_start=False),\n",
       "                                       n_jobs=None))],\n",
       "         verbose=False)"
      ]
     },
     "execution_count": 25,
     "metadata": {},
     "output_type": "execute_result"
    }
   ],
   "source": [
    "X_train, X_test, Y_train, Y_test = train_test_split(X, Y, random_state=42)\n",
    "\n",
    "pipeline.fit(X_train, Y_train)"
   ]
  },
  {
   "cell_type": "markdown",
   "metadata": {},
   "source": [
    "### 5. Test your model\n",
    "Report the f1 score, precision and recall for each output category of the dataset. You can do this by iterating through the columns and calling sklearn's `classification_report` on each."
   ]
  },
  {
   "cell_type": "code",
   "execution_count": 48,
   "metadata": {
    "ExecuteTime": {
     "end_time": "2019-07-09T09:28:27.131330Z",
     "start_time": "2019-07-09T09:28:27.125474Z"
    }
   },
   "outputs": [],
   "source": [
    "def evaluate_model(model, X, y_true, col_names):\n",
    "    \"\"\"\n",
    "    Print evaluation metrics of the model\n",
    "    \n",
    "    params:\n",
    "    model: sklearn models or pipelines\n",
    "    X: X_train or X_test\n",
    "    y_true: array. Array containing the actual label\n",
    "    col_names: list of str. List containing the column names of Y labels\n",
    "    \n",
    "    \n",
    "    \"\"\"\n",
    "    y_true = np.array(y_true)\n",
    "    y_pred = model.predict(X)\n",
    "    metrics = []\n",
    "    \n",
    "    for i in range(len(col_names)):\n",
    "        accuracy = accuracy_score(y_true[:, i], y_pred[:, i])\n",
    "        precision = precision_score(y_true[:, i], y_pred[:, i])\n",
    "        recall = recall_score(y_true[:, i], y_pred[:, i])\n",
    "        f1 = f1_score(y_true[:, i], y_pred[:, i])\n",
    "        metrics.append([accuracy, precision, recall, f1])\n",
    "    \n",
    "    metrics_df = pd.DataFrame(metrics, index=col_names, columns = ['Accuracy', 'Precision', 'Recall', 'F1-score'])\n",
    "    \n",
    "    return metrics_df"
   ]
  },
  {
   "cell_type": "code",
   "execution_count": 49,
   "metadata": {
    "ExecuteTime": {
     "end_time": "2019-07-09T09:30:33.732769Z",
     "start_time": "2019-07-09T09:28:29.152544Z"
    }
   },
   "outputs": [],
   "source": [
    "col_names = list(Y.columns.values)\n",
    "\n",
    "# Evaluation metrics for training set\n",
    "train_metrics_df = evaluate_model(pipeline, X_train, Y_train, col_names)"
   ]
  },
  {
   "cell_type": "code",
   "execution_count": 50,
   "metadata": {
    "ExecuteTime": {
     "end_time": "2019-07-09T09:31:16.001090Z",
     "start_time": "2019-07-09T09:30:33.887931Z"
    }
   },
   "outputs": [
    {
     "name": "stderr",
     "output_type": "stream",
     "text": [
      "C:\\Users\\andre\\Anaconda3\\envs\\data-science\\lib\\site-packages\\sklearn\\metrics\\classification.py:1437: UndefinedMetricWarning: Precision is ill-defined and being set to 0.0 due to no predicted samples.\n",
      "  'precision', 'predicted', average, warn_for)\n",
      "C:\\Users\\andre\\Anaconda3\\envs\\data-science\\lib\\site-packages\\sklearn\\metrics\\classification.py:1437: UndefinedMetricWarning: F-score is ill-defined and being set to 0.0 due to no predicted samples.\n",
      "  'precision', 'predicted', average, warn_for)\n"
     ]
    }
   ],
   "source": [
    "# Evaluation metrics for test set\n",
    "test_metrics_df = evaluate_model(pipeline, X_test, Y_test, col_names)"
   ]
  },
  {
   "cell_type": "code",
   "execution_count": 51,
   "metadata": {
    "ExecuteTime": {
     "end_time": "2019-07-09T09:32:10.657628Z",
     "start_time": "2019-07-09T09:32:10.648844Z"
    }
   },
   "outputs": [
    {
     "data": {
      "text/html": [
       "<div>\n",
       "<style scoped>\n",
       "    .dataframe tbody tr th:only-of-type {\n",
       "        vertical-align: middle;\n",
       "    }\n",
       "\n",
       "    .dataframe tbody tr th {\n",
       "        vertical-align: top;\n",
       "    }\n",
       "\n",
       "    .dataframe thead th {\n",
       "        text-align: right;\n",
       "    }\n",
       "</style>\n",
       "<table border=\"1\" class=\"dataframe\">\n",
       "  <thead>\n",
       "    <tr style=\"text-align: right;\">\n",
       "      <th></th>\n",
       "      <th>Accuracy</th>\n",
       "      <th>Precision</th>\n",
       "      <th>Recall</th>\n",
       "      <th>F1-score</th>\n",
       "    </tr>\n",
       "  </thead>\n",
       "  <tbody>\n",
       "    <tr>\n",
       "      <th>related</th>\n",
       "      <td>0.990472</td>\n",
       "      <td>0.992471</td>\n",
       "      <td>0.995123</td>\n",
       "      <td>0.993795</td>\n",
       "    </tr>\n",
       "    <tr>\n",
       "      <th>request</th>\n",
       "      <td>0.986527</td>\n",
       "      <td>0.995218</td>\n",
       "      <td>0.926409</td>\n",
       "      <td>0.959582</td>\n",
       "    </tr>\n",
       "    <tr>\n",
       "      <th>offer</th>\n",
       "      <td>0.998822</td>\n",
       "      <td>1.000000</td>\n",
       "      <td>0.750000</td>\n",
       "      <td>0.857143</td>\n",
       "    </tr>\n",
       "    <tr>\n",
       "      <th>aid_related</th>\n",
       "      <td>0.986322</td>\n",
       "      <td>0.995971</td>\n",
       "      <td>0.971151</td>\n",
       "      <td>0.983405</td>\n",
       "    </tr>\n",
       "    <tr>\n",
       "      <th>medical_help</th>\n",
       "      <td>0.988064</td>\n",
       "      <td>1.000000</td>\n",
       "      <td>0.848898</td>\n",
       "      <td>0.918274</td>\n",
       "    </tr>\n",
       "    <tr>\n",
       "      <th>medical_products</th>\n",
       "      <td>0.991394</td>\n",
       "      <td>0.996269</td>\n",
       "      <td>0.829193</td>\n",
       "      <td>0.905085</td>\n",
       "    </tr>\n",
       "    <tr>\n",
       "      <th>search_and_rescue</th>\n",
       "      <td>0.994775</td>\n",
       "      <td>1.000000</td>\n",
       "      <td>0.808271</td>\n",
       "      <td>0.893971</td>\n",
       "    </tr>\n",
       "    <tr>\n",
       "      <th>security</th>\n",
       "      <td>0.995697</td>\n",
       "      <td>0.996094</td>\n",
       "      <td>0.754438</td>\n",
       "      <td>0.858586</td>\n",
       "    </tr>\n",
       "    <tr>\n",
       "      <th>military</th>\n",
       "      <td>0.994672</td>\n",
       "      <td>0.996262</td>\n",
       "      <td>0.839370</td>\n",
       "      <td>0.911111</td>\n",
       "    </tr>\n",
       "    <tr>\n",
       "      <th>water</th>\n",
       "      <td>0.995185</td>\n",
       "      <td>0.999130</td>\n",
       "      <td>0.925121</td>\n",
       "      <td>0.960702</td>\n",
       "    </tr>\n",
       "    <tr>\n",
       "      <th>food</th>\n",
       "      <td>0.995287</td>\n",
       "      <td>0.997159</td>\n",
       "      <td>0.960766</td>\n",
       "      <td>0.978625</td>\n",
       "    </tr>\n",
       "    <tr>\n",
       "      <th>shelter</th>\n",
       "      <td>0.992316</td>\n",
       "      <td>0.997459</td>\n",
       "      <td>0.914918</td>\n",
       "      <td>0.954407</td>\n",
       "    </tr>\n",
       "    <tr>\n",
       "      <th>clothing</th>\n",
       "      <td>0.997387</td>\n",
       "      <td>1.000000</td>\n",
       "      <td>0.832237</td>\n",
       "      <td>0.908438</td>\n",
       "    </tr>\n",
       "    <tr>\n",
       "      <th>money</th>\n",
       "      <td>0.995697</td>\n",
       "      <td>1.000000</td>\n",
       "      <td>0.807339</td>\n",
       "      <td>0.893401</td>\n",
       "    </tr>\n",
       "    <tr>\n",
       "      <th>missing_people</th>\n",
       "      <td>0.997490</td>\n",
       "      <td>0.994536</td>\n",
       "      <td>0.791304</td>\n",
       "      <td>0.881356</td>\n",
       "    </tr>\n",
       "    <tr>\n",
       "      <th>refugees</th>\n",
       "      <td>0.993648</td>\n",
       "      <td>1.000000</td>\n",
       "      <td>0.814093</td>\n",
       "      <td>0.897521</td>\n",
       "    </tr>\n",
       "    <tr>\n",
       "      <th>death</th>\n",
       "      <td>0.994365</td>\n",
       "      <td>0.994987</td>\n",
       "      <td>0.882222</td>\n",
       "      <td>0.935218</td>\n",
       "    </tr>\n",
       "    <tr>\n",
       "      <th>other_aid</th>\n",
       "      <td>0.979099</td>\n",
       "      <td>0.995504</td>\n",
       "      <td>0.847626</td>\n",
       "      <td>0.915633</td>\n",
       "    </tr>\n",
       "    <tr>\n",
       "      <th>infrastructure_related</th>\n",
       "      <td>0.986169</td>\n",
       "      <td>1.000000</td>\n",
       "      <td>0.790047</td>\n",
       "      <td>0.882711</td>\n",
       "    </tr>\n",
       "    <tr>\n",
       "      <th>transport</th>\n",
       "      <td>0.990779</td>\n",
       "      <td>0.998623</td>\n",
       "      <td>0.801991</td>\n",
       "      <td>0.889571</td>\n",
       "    </tr>\n",
       "    <tr>\n",
       "      <th>buildings</th>\n",
       "      <td>0.993341</td>\n",
       "      <td>0.998818</td>\n",
       "      <td>0.867556</td>\n",
       "      <td>0.928571</td>\n",
       "    </tr>\n",
       "    <tr>\n",
       "      <th>electricity</th>\n",
       "      <td>0.994826</td>\n",
       "      <td>1.000000</td>\n",
       "      <td>0.750617</td>\n",
       "      <td>0.857546</td>\n",
       "    </tr>\n",
       "    <tr>\n",
       "      <th>tools</th>\n",
       "      <td>0.998310</td>\n",
       "      <td>1.000000</td>\n",
       "      <td>0.722689</td>\n",
       "      <td>0.839024</td>\n",
       "    </tr>\n",
       "    <tr>\n",
       "      <th>hospitals</th>\n",
       "      <td>0.996824</td>\n",
       "      <td>1.000000</td>\n",
       "      <td>0.707547</td>\n",
       "      <td>0.828729</td>\n",
       "    </tr>\n",
       "    <tr>\n",
       "      <th>shops</th>\n",
       "      <td>0.999078</td>\n",
       "      <td>1.000000</td>\n",
       "      <td>0.788235</td>\n",
       "      <td>0.881579</td>\n",
       "    </tr>\n",
       "    <tr>\n",
       "      <th>aid_centers</th>\n",
       "      <td>0.997131</td>\n",
       "      <td>1.000000</td>\n",
       "      <td>0.763713</td>\n",
       "      <td>0.866029</td>\n",
       "    </tr>\n",
       "    <tr>\n",
       "      <th>other_infrastructure</th>\n",
       "      <td>0.990011</td>\n",
       "      <td>1.000000</td>\n",
       "      <td>0.775862</td>\n",
       "      <td>0.873786</td>\n",
       "    </tr>\n",
       "    <tr>\n",
       "      <th>weather_related</th>\n",
       "      <td>0.986681</td>\n",
       "      <td>0.995635</td>\n",
       "      <td>0.956775</td>\n",
       "      <td>0.975818</td>\n",
       "    </tr>\n",
       "    <tr>\n",
       "      <th>floods</th>\n",
       "      <td>0.991804</td>\n",
       "      <td>0.997277</td>\n",
       "      <td>0.903763</td>\n",
       "      <td>0.948220</td>\n",
       "    </tr>\n",
       "    <tr>\n",
       "      <th>storm</th>\n",
       "      <td>0.994109</td>\n",
       "      <td>0.995925</td>\n",
       "      <td>0.940627</td>\n",
       "      <td>0.967487</td>\n",
       "    </tr>\n",
       "    <tr>\n",
       "      <th>fire</th>\n",
       "      <td>0.997080</td>\n",
       "      <td>1.000000</td>\n",
       "      <td>0.728571</td>\n",
       "      <td>0.842975</td>\n",
       "    </tr>\n",
       "    <tr>\n",
       "      <th>earthquake</th>\n",
       "      <td>0.995236</td>\n",
       "      <td>0.994369</td>\n",
       "      <td>0.955111</td>\n",
       "      <td>0.974345</td>\n",
       "    </tr>\n",
       "    <tr>\n",
       "      <th>cold</th>\n",
       "      <td>0.996517</td>\n",
       "      <td>0.996914</td>\n",
       "      <td>0.828205</td>\n",
       "      <td>0.904762</td>\n",
       "    </tr>\n",
       "    <tr>\n",
       "      <th>other_weather</th>\n",
       "      <td>0.989498</td>\n",
       "      <td>0.997633</td>\n",
       "      <td>0.805927</td>\n",
       "      <td>0.891592</td>\n",
       "    </tr>\n",
       "    <tr>\n",
       "      <th>direct_report</th>\n",
       "      <td>0.981814</td>\n",
       "      <td>0.995369</td>\n",
       "      <td>0.910270</td>\n",
       "      <td>0.950919</td>\n",
       "    </tr>\n",
       "  </tbody>\n",
       "</table>\n",
       "</div>"
      ],
      "text/plain": [
       "                        Accuracy  Precision    Recall  F1-score\n",
       "related                 0.990472   0.992471  0.995123  0.993795\n",
       "request                 0.986527   0.995218  0.926409  0.959582\n",
       "offer                   0.998822   1.000000  0.750000  0.857143\n",
       "aid_related             0.986322   0.995971  0.971151  0.983405\n",
       "medical_help            0.988064   1.000000  0.848898  0.918274\n",
       "medical_products        0.991394   0.996269  0.829193  0.905085\n",
       "search_and_rescue       0.994775   1.000000  0.808271  0.893971\n",
       "security                0.995697   0.996094  0.754438  0.858586\n",
       "military                0.994672   0.996262  0.839370  0.911111\n",
       "water                   0.995185   0.999130  0.925121  0.960702\n",
       "food                    0.995287   0.997159  0.960766  0.978625\n",
       "shelter                 0.992316   0.997459  0.914918  0.954407\n",
       "clothing                0.997387   1.000000  0.832237  0.908438\n",
       "money                   0.995697   1.000000  0.807339  0.893401\n",
       "missing_people          0.997490   0.994536  0.791304  0.881356\n",
       "refugees                0.993648   1.000000  0.814093  0.897521\n",
       "death                   0.994365   0.994987  0.882222  0.935218\n",
       "other_aid               0.979099   0.995504  0.847626  0.915633\n",
       "infrastructure_related  0.986169   1.000000  0.790047  0.882711\n",
       "transport               0.990779   0.998623  0.801991  0.889571\n",
       "buildings               0.993341   0.998818  0.867556  0.928571\n",
       "electricity             0.994826   1.000000  0.750617  0.857546\n",
       "tools                   0.998310   1.000000  0.722689  0.839024\n",
       "hospitals               0.996824   1.000000  0.707547  0.828729\n",
       "shops                   0.999078   1.000000  0.788235  0.881579\n",
       "aid_centers             0.997131   1.000000  0.763713  0.866029\n",
       "other_infrastructure    0.990011   1.000000  0.775862  0.873786\n",
       "weather_related         0.986681   0.995635  0.956775  0.975818\n",
       "floods                  0.991804   0.997277  0.903763  0.948220\n",
       "storm                   0.994109   0.995925  0.940627  0.967487\n",
       "fire                    0.997080   1.000000  0.728571  0.842975\n",
       "earthquake              0.995236   0.994369  0.955111  0.974345\n",
       "cold                    0.996517   0.996914  0.828205  0.904762\n",
       "other_weather           0.989498   0.997633  0.805927  0.891592\n",
       "direct_report           0.981814   0.995369  0.910270  0.950919"
      ]
     },
     "execution_count": 51,
     "metadata": {},
     "output_type": "execute_result"
    }
   ],
   "source": [
    "train_metrics_df"
   ]
  },
  {
   "cell_type": "markdown",
   "metadata": {},
   "source": [
    "Most of the categories has vert low F1-score in test set. This is caused by the fact that most of the categories has labels equals to 0 except `realted` category. To improve the F-score, we may have to resample the dataset by up sampling the under represented class."
   ]
  },
  {
   "cell_type": "code",
   "execution_count": 56,
   "metadata": {
    "ExecuteTime": {
     "end_time": "2019-07-09T09:40:50.492183Z",
     "start_time": "2019-07-09T09:40:50.479495Z"
    }
   },
   "outputs": [
    {
     "data": {
      "text/plain": [
       "related                   0.764792\n",
       "request                   0.171892\n",
       "offer                     0.004534\n",
       "aid_related               0.417243\n",
       "medical_help              0.080068\n",
       "medical_products          0.050446\n",
       "search_and_rescue         0.027816\n",
       "security                  0.018096\n",
       "military                  0.033041\n",
       "water                     0.064239\n",
       "food                      0.112302\n",
       "shelter                   0.088904\n",
       "clothing                  0.015560\n",
       "money                     0.023206\n",
       "missing_people            0.011449\n",
       "refugees                  0.033618\n",
       "death                     0.045874\n",
       "other_aid                 0.132396\n",
       "infrastructure_related    0.065506\n",
       "transport                 0.046143\n",
       "buildings                 0.051214\n",
       "electricity               0.020440\n",
       "tools                     0.006109\n",
       "hospitals                 0.010873\n",
       "shops                     0.004610\n",
       "aid_centers               0.011872\n",
       "other_infrastructure      0.044222\n",
       "weather_related           0.280352\n",
       "floods                    0.082795\n",
       "storm                     0.093860\n",
       "fire                      0.010834\n",
       "earthquake                0.094321\n",
       "cold                      0.020363\n",
       "other_weather             0.052866\n",
       "direct_report             0.194982\n",
       "dtype: float64"
      ]
     },
     "execution_count": 56,
     "metadata": {},
     "output_type": "execute_result"
    }
   ],
   "source": [
    "Y.sum() / len(Y)"
   ]
  },
  {
   "cell_type": "code",
   "execution_count": 52,
   "metadata": {
    "ExecuteTime": {
     "end_time": "2019-07-09T09:32:15.374815Z",
     "start_time": "2019-07-09T09:32:15.365058Z"
    }
   },
   "outputs": [
    {
     "data": {
      "text/html": [
       "<div>\n",
       "<style scoped>\n",
       "    .dataframe tbody tr th:only-of-type {\n",
       "        vertical-align: middle;\n",
       "    }\n",
       "\n",
       "    .dataframe tbody tr th {\n",
       "        vertical-align: top;\n",
       "    }\n",
       "\n",
       "    .dataframe thead th {\n",
       "        text-align: right;\n",
       "    }\n",
       "</style>\n",
       "<table border=\"1\" class=\"dataframe\">\n",
       "  <thead>\n",
       "    <tr style=\"text-align: right;\">\n",
       "      <th></th>\n",
       "      <th>Accuracy</th>\n",
       "      <th>Precision</th>\n",
       "      <th>Recall</th>\n",
       "      <th>F1-score</th>\n",
       "    </tr>\n",
       "  </thead>\n",
       "  <tbody>\n",
       "    <tr>\n",
       "      <th>related</th>\n",
       "      <td>0.806362</td>\n",
       "      <td>0.839049</td>\n",
       "      <td>0.921628</td>\n",
       "      <td>0.878402</td>\n",
       "    </tr>\n",
       "    <tr>\n",
       "      <th>request</th>\n",
       "      <td>0.886584</td>\n",
       "      <td>0.772321</td>\n",
       "      <td>0.470109</td>\n",
       "      <td>0.584459</td>\n",
       "    </tr>\n",
       "    <tr>\n",
       "      <th>offer</th>\n",
       "      <td>0.996004</td>\n",
       "      <td>0.000000</td>\n",
       "      <td>0.000000</td>\n",
       "      <td>0.000000</td>\n",
       "    </tr>\n",
       "    <tr>\n",
       "      <th>aid_related</th>\n",
       "      <td>0.755187</td>\n",
       "      <td>0.758653</td>\n",
       "      <td>0.605748</td>\n",
       "      <td>0.673632</td>\n",
       "    </tr>\n",
       "    <tr>\n",
       "      <th>medical_help</th>\n",
       "      <td>0.917781</td>\n",
       "      <td>0.555556</td>\n",
       "      <td>0.064576</td>\n",
       "      <td>0.115702</td>\n",
       "    </tr>\n",
       "    <tr>\n",
       "      <th>medical_products</th>\n",
       "      <td>0.952820</td>\n",
       "      <td>0.822581</td>\n",
       "      <td>0.146974</td>\n",
       "      <td>0.249389</td>\n",
       "    </tr>\n",
       "    <tr>\n",
       "      <th>search_and_rescue</th>\n",
       "      <td>0.970493</td>\n",
       "      <td>0.500000</td>\n",
       "      <td>0.031250</td>\n",
       "      <td>0.058824</td>\n",
       "    </tr>\n",
       "    <tr>\n",
       "      <th>security</th>\n",
       "      <td>0.979253</td>\n",
       "      <td>0.250000</td>\n",
       "      <td>0.007519</td>\n",
       "      <td>0.014599</td>\n",
       "    </tr>\n",
       "    <tr>\n",
       "      <th>military</th>\n",
       "      <td>0.965268</td>\n",
       "      <td>0.461538</td>\n",
       "      <td>0.026667</td>\n",
       "      <td>0.050420</td>\n",
       "    </tr>\n",
       "    <tr>\n",
       "      <th>water</th>\n",
       "      <td>0.947902</td>\n",
       "      <td>0.858268</td>\n",
       "      <td>0.253488</td>\n",
       "      <td>0.391382</td>\n",
       "    </tr>\n",
       "    <tr>\n",
       "      <th>food</th>\n",
       "      <td>0.934993</td>\n",
       "      <td>0.822176</td>\n",
       "      <td>0.537620</td>\n",
       "      <td>0.650124</td>\n",
       "    </tr>\n",
       "    <tr>\n",
       "      <th>shelter</th>\n",
       "      <td>0.927463</td>\n",
       "      <td>0.788991</td>\n",
       "      <td>0.287625</td>\n",
       "      <td>0.421569</td>\n",
       "    </tr>\n",
       "    <tr>\n",
       "      <th>clothing</th>\n",
       "      <td>0.985554</td>\n",
       "      <td>0.818182</td>\n",
       "      <td>0.089109</td>\n",
       "      <td>0.160714</td>\n",
       "    </tr>\n",
       "    <tr>\n",
       "      <th>money</th>\n",
       "      <td>0.975718</td>\n",
       "      <td>0.857143</td>\n",
       "      <td>0.071429</td>\n",
       "      <td>0.131868</td>\n",
       "    </tr>\n",
       "    <tr>\n",
       "      <th>missing_people</th>\n",
       "      <td>0.989550</td>\n",
       "      <td>0.000000</td>\n",
       "      <td>0.000000</td>\n",
       "      <td>0.000000</td>\n",
       "    </tr>\n",
       "    <tr>\n",
       "      <th>refugees</th>\n",
       "      <td>0.967112</td>\n",
       "      <td>0.363636</td>\n",
       "      <td>0.038462</td>\n",
       "      <td>0.069565</td>\n",
       "    </tr>\n",
       "    <tr>\n",
       "      <th>death</th>\n",
       "      <td>0.960658</td>\n",
       "      <td>0.816667</td>\n",
       "      <td>0.166667</td>\n",
       "      <td>0.276836</td>\n",
       "    </tr>\n",
       "    <tr>\n",
       "      <th>other_aid</th>\n",
       "      <td>0.874443</td>\n",
       "      <td>0.585859</td>\n",
       "      <td>0.069544</td>\n",
       "      <td>0.124330</td>\n",
       "    </tr>\n",
       "    <tr>\n",
       "      <th>infrastructure_related</th>\n",
       "      <td>0.934839</td>\n",
       "      <td>0.272727</td>\n",
       "      <td>0.007160</td>\n",
       "      <td>0.013953</td>\n",
       "    </tr>\n",
       "    <tr>\n",
       "      <th>transport</th>\n",
       "      <td>0.957123</td>\n",
       "      <td>0.764706</td>\n",
       "      <td>0.087542</td>\n",
       "      <td>0.157100</td>\n",
       "    </tr>\n",
       "    <tr>\n",
       "      <th>buildings</th>\n",
       "      <td>0.949285</td>\n",
       "      <td>0.754386</td>\n",
       "      <td>0.119777</td>\n",
       "      <td>0.206731</td>\n",
       "    </tr>\n",
       "    <tr>\n",
       "      <th>electricity</th>\n",
       "      <td>0.980790</td>\n",
       "      <td>0.666667</td>\n",
       "      <td>0.031496</td>\n",
       "      <td>0.060150</td>\n",
       "    </tr>\n",
       "    <tr>\n",
       "      <th>tools</th>\n",
       "      <td>0.993853</td>\n",
       "      <td>0.000000</td>\n",
       "      <td>0.000000</td>\n",
       "      <td>0.000000</td>\n",
       "    </tr>\n",
       "    <tr>\n",
       "      <th>hospitals</th>\n",
       "      <td>0.989089</td>\n",
       "      <td>0.000000</td>\n",
       "      <td>0.000000</td>\n",
       "      <td>0.000000</td>\n",
       "    </tr>\n",
       "    <tr>\n",
       "      <th>shops</th>\n",
       "      <td>0.994621</td>\n",
       "      <td>0.000000</td>\n",
       "      <td>0.000000</td>\n",
       "      <td>0.000000</td>\n",
       "    </tr>\n",
       "    <tr>\n",
       "      <th>aid_centers</th>\n",
       "      <td>0.988935</td>\n",
       "      <td>0.000000</td>\n",
       "      <td>0.000000</td>\n",
       "      <td>0.000000</td>\n",
       "    </tr>\n",
       "    <tr>\n",
       "      <th>other_infrastructure</th>\n",
       "      <td>0.956355</td>\n",
       "      <td>0.285714</td>\n",
       "      <td>0.007117</td>\n",
       "      <td>0.013889</td>\n",
       "    </tr>\n",
       "    <tr>\n",
       "      <th>weather_related</th>\n",
       "      <td>0.859997</td>\n",
       "      <td>0.823656</td>\n",
       "      <td>0.633407</td>\n",
       "      <td>0.716111</td>\n",
       "    </tr>\n",
       "    <tr>\n",
       "      <th>floods</th>\n",
       "      <td>0.950976</td>\n",
       "      <td>0.879859</td>\n",
       "      <td>0.466292</td>\n",
       "      <td>0.609547</td>\n",
       "    </tr>\n",
       "    <tr>\n",
       "      <th>storm</th>\n",
       "      <td>0.931458</td>\n",
       "      <td>0.757225</td>\n",
       "      <td>0.419872</td>\n",
       "      <td>0.540206</td>\n",
       "    </tr>\n",
       "    <tr>\n",
       "      <th>fire</th>\n",
       "      <td>0.988628</td>\n",
       "      <td>0.000000</td>\n",
       "      <td>0.000000</td>\n",
       "      <td>0.000000</td>\n",
       "    </tr>\n",
       "    <tr>\n",
       "      <th>earthquake</th>\n",
       "      <td>0.960504</td>\n",
       "      <td>0.875269</td>\n",
       "      <td>0.671617</td>\n",
       "      <td>0.760037</td>\n",
       "    </tr>\n",
       "    <tr>\n",
       "      <th>cold</th>\n",
       "      <td>0.980636</td>\n",
       "      <td>1.000000</td>\n",
       "      <td>0.100000</td>\n",
       "      <td>0.181818</td>\n",
       "    </tr>\n",
       "    <tr>\n",
       "      <th>other_weather</th>\n",
       "      <td>0.949132</td>\n",
       "      <td>0.476190</td>\n",
       "      <td>0.030303</td>\n",
       "      <td>0.056980</td>\n",
       "    </tr>\n",
       "    <tr>\n",
       "      <th>direct_report</th>\n",
       "      <td>0.839711</td>\n",
       "      <td>0.723592</td>\n",
       "      <td>0.316885</td>\n",
       "      <td>0.440751</td>\n",
       "    </tr>\n",
       "  </tbody>\n",
       "</table>\n",
       "</div>"
      ],
      "text/plain": [
       "                        Accuracy  Precision    Recall  F1-score\n",
       "related                 0.806362   0.839049  0.921628  0.878402\n",
       "request                 0.886584   0.772321  0.470109  0.584459\n",
       "offer                   0.996004   0.000000  0.000000  0.000000\n",
       "aid_related             0.755187   0.758653  0.605748  0.673632\n",
       "medical_help            0.917781   0.555556  0.064576  0.115702\n",
       "medical_products        0.952820   0.822581  0.146974  0.249389\n",
       "search_and_rescue       0.970493   0.500000  0.031250  0.058824\n",
       "security                0.979253   0.250000  0.007519  0.014599\n",
       "military                0.965268   0.461538  0.026667  0.050420\n",
       "water                   0.947902   0.858268  0.253488  0.391382\n",
       "food                    0.934993   0.822176  0.537620  0.650124\n",
       "shelter                 0.927463   0.788991  0.287625  0.421569\n",
       "clothing                0.985554   0.818182  0.089109  0.160714\n",
       "money                   0.975718   0.857143  0.071429  0.131868\n",
       "missing_people          0.989550   0.000000  0.000000  0.000000\n",
       "refugees                0.967112   0.363636  0.038462  0.069565\n",
       "death                   0.960658   0.816667  0.166667  0.276836\n",
       "other_aid               0.874443   0.585859  0.069544  0.124330\n",
       "infrastructure_related  0.934839   0.272727  0.007160  0.013953\n",
       "transport               0.957123   0.764706  0.087542  0.157100\n",
       "buildings               0.949285   0.754386  0.119777  0.206731\n",
       "electricity             0.980790   0.666667  0.031496  0.060150\n",
       "tools                   0.993853   0.000000  0.000000  0.000000\n",
       "hospitals               0.989089   0.000000  0.000000  0.000000\n",
       "shops                   0.994621   0.000000  0.000000  0.000000\n",
       "aid_centers             0.988935   0.000000  0.000000  0.000000\n",
       "other_infrastructure    0.956355   0.285714  0.007117  0.013889\n",
       "weather_related         0.859997   0.823656  0.633407  0.716111\n",
       "floods                  0.950976   0.879859  0.466292  0.609547\n",
       "storm                   0.931458   0.757225  0.419872  0.540206\n",
       "fire                    0.988628   0.000000  0.000000  0.000000\n",
       "earthquake              0.960504   0.875269  0.671617  0.760037\n",
       "cold                    0.980636   1.000000  0.100000  0.181818\n",
       "other_weather           0.949132   0.476190  0.030303  0.056980\n",
       "direct_report           0.839711   0.723592  0.316885  0.440751"
      ]
     },
     "execution_count": 52,
     "metadata": {},
     "output_type": "execute_result"
    }
   ],
   "source": [
    "test_metrics_df"
   ]
  },
  {
   "cell_type": "markdown",
   "metadata": {},
   "source": [
    "### 6. Improve your model\n",
    "Use grid search to find better parameters. \n",
    "\n",
    "* Create a customized score function. If we use mean f1 score, the model will favour classifiers that have small number of categories that have very high f1 score, while most of the `categories` have very low f1 score. So median f1 score will give a better indicater of how well the model actually perform in this case"
   ]
  },
  {
   "cell_type": "code",
   "execution_count": 57,
   "metadata": {
    "ExecuteTime": {
     "end_time": "2019-07-09T09:54:20.217122Z",
     "start_time": "2019-07-09T09:54:20.212242Z"
    }
   },
   "outputs": [],
   "source": [
    "def score(y_true, y_pred):\n",
    "    \"\"\"\n",
    "    Calculate median F1 score for multi-output labels\n",
    "    \n",
    "    params:\n",
    "    y_true: array. Actual labels\n",
    "    y_pred: array. Predicted labels return from models\n",
    "    \n",
    "    returns:\n",
    "    f1_median: float. median f1 scores\n",
    "    \"\"\"\n",
    "    y_true = np.array(y_true)\n",
    "    f1_list = []\n",
    "    for i in range(y_true.shape[1]):\n",
    "        f1 = f1_score(y_true[:, i], y_pred[:, i])\n",
    "        f1_list.append(f1)\n",
    "    f1_median = np.median(f1_list)\n",
    "    return f1_median"
   ]
  },
  {
   "cell_type": "code",
   "execution_count": 63,
   "metadata": {
    "ExecuteTime": {
     "end_time": "2019-07-09T20:12:25.246522Z",
     "start_time": "2019-07-09T12:38:29.857465Z"
    }
   },
   "outputs": [
    {
     "name": "stdout",
     "output_type": "stream",
     "text": [
      "Fitting 3 folds for each of 24 candidates, totalling 72 fits\n"
     ]
    },
    {
     "name": "stderr",
     "output_type": "stream",
     "text": [
      "[Parallel(n_jobs=1)]: Using backend SequentialBackend with 1 concurrent workers.\n",
      "[Parallel(n_jobs=1)]: Done  72 out of  72 | elapsed: 447.2min finished\n"
     ]
    }
   ],
   "source": [
    "parameters = {\n",
    "    'vect__max_df': (0.75, 1.0),\n",
    "    'tfidf__use_idf': (True, False),\n",
    "    'clf__estimator__n_estimators': [100, 200],\n",
    "    'clf__estimator__min_samples_split': [2, 5, 10]}\n",
    "\n",
    "scorer = make_scorer(score)\n",
    "cv = GridSearchCV(pipeline, param_grid=parameters, scoring=scorer, verbose=1)\n",
    "\n",
    "grid_model = cv.fit(X_train, Y_train)"
   ]
  },
  {
   "cell_type": "code",
   "execution_count": 65,
   "metadata": {
    "ExecuteTime": {
     "end_time": "2019-07-09T20:35:32.304496Z",
     "start_time": "2019-07-09T20:35:32.297663Z"
    }
   },
   "outputs": [
    {
     "data": {
      "text/plain": [
       "{'clf__estimator__min_samples_split': 10,\n",
       " 'clf__estimator__n_estimators': 100,\n",
       " 'tfidf__use_idf': True,\n",
       " 'vect__max_df': 1.0}"
      ]
     },
     "execution_count": 65,
     "metadata": {},
     "output_type": "execute_result"
    }
   ],
   "source": [
    "# Parameters for best model\n",
    "grid_model.best_params_"
   ]
  },
  {
   "cell_type": "markdown",
   "metadata": {},
   "source": [
    "### 7. Test your model\n",
    "Show the accuracy, precision, and recall of the tuned model.  \n",
    "\n",
    "Since this project focuses on code quality, process, and  pipelines, there is no minimum performance metric needed to pass. However, make sure to fine tune your models for accuracy, precision and recall to make your project stand out - especially for your portfolio!"
   ]
  },
  {
   "cell_type": "code",
   "execution_count": 68,
   "metadata": {
    "ExecuteTime": {
     "end_time": "2019-07-09T21:00:40.757929Z",
     "start_time": "2019-07-09T20:59:10.568592Z"
    }
   },
   "outputs": [],
   "source": [
    " grid_model_df = evaluate_model(grid_model, X_test, Y_test, col_names)"
   ]
  },
  {
   "cell_type": "markdown",
   "metadata": {},
   "source": [
    "With Tuning the model parameters, the median F1-score has increased by 9%. But there is still around 25% of classifiers have an F1 score near to 0."
   ]
  },
  {
   "cell_type": "code",
   "execution_count": 75,
   "metadata": {
    "ExecuteTime": {
     "end_time": "2019-07-10T06:22:47.875620Z",
     "start_time": "2019-07-10T06:22:47.861958Z"
    }
   },
   "outputs": [
    {
     "data": {
      "text/html": [
       "<div>\n",
       "<style scoped>\n",
       "    .dataframe tbody tr th:only-of-type {\n",
       "        vertical-align: middle;\n",
       "    }\n",
       "\n",
       "    .dataframe tbody tr th {\n",
       "        vertical-align: top;\n",
       "    }\n",
       "\n",
       "    .dataframe thead th {\n",
       "        text-align: right;\n",
       "    }\n",
       "</style>\n",
       "<table border=\"1\" class=\"dataframe\">\n",
       "  <thead>\n",
       "    <tr style=\"text-align: right;\">\n",
       "      <th></th>\n",
       "      <th>Accuracy</th>\n",
       "      <th>Precision</th>\n",
       "      <th>Recall</th>\n",
       "      <th>F1-score</th>\n",
       "    </tr>\n",
       "  </thead>\n",
       "  <tbody>\n",
       "    <tr>\n",
       "      <th>related</th>\n",
       "      <td>0.821884</td>\n",
       "      <td>0.832132</td>\n",
       "      <td>0.958688</td>\n",
       "      <td>0.890938</td>\n",
       "    </tr>\n",
       "    <tr>\n",
       "      <th>request</th>\n",
       "      <td>0.898263</td>\n",
       "      <td>0.812147</td>\n",
       "      <td>0.520833</td>\n",
       "      <td>0.634658</td>\n",
       "    </tr>\n",
       "    <tr>\n",
       "      <th>offer</th>\n",
       "      <td>0.996004</td>\n",
       "      <td>0.000000</td>\n",
       "      <td>0.000000</td>\n",
       "      <td>0.000000</td>\n",
       "    </tr>\n",
       "    <tr>\n",
       "      <th>aid_related</th>\n",
       "      <td>0.790380</td>\n",
       "      <td>0.757634</td>\n",
       "      <td>0.731393</td>\n",
       "      <td>0.744282</td>\n",
       "    </tr>\n",
       "    <tr>\n",
       "      <th>medical_help</th>\n",
       "      <td>0.919625</td>\n",
       "      <td>0.693878</td>\n",
       "      <td>0.062731</td>\n",
       "      <td>0.115059</td>\n",
       "    </tr>\n",
       "    <tr>\n",
       "      <th>medical_products</th>\n",
       "      <td>0.950669</td>\n",
       "      <td>0.882353</td>\n",
       "      <td>0.086455</td>\n",
       "      <td>0.157480</td>\n",
       "    </tr>\n",
       "    <tr>\n",
       "      <th>search_and_rescue</th>\n",
       "      <td>0.971108</td>\n",
       "      <td>0.833333</td>\n",
       "      <td>0.026042</td>\n",
       "      <td>0.050505</td>\n",
       "    </tr>\n",
       "    <tr>\n",
       "      <th>security</th>\n",
       "      <td>0.979560</td>\n",
       "      <td>0.500000</td>\n",
       "      <td>0.007519</td>\n",
       "      <td>0.014815</td>\n",
       "    </tr>\n",
       "    <tr>\n",
       "      <th>military</th>\n",
       "      <td>0.967573</td>\n",
       "      <td>0.791667</td>\n",
       "      <td>0.084444</td>\n",
       "      <td>0.152610</td>\n",
       "    </tr>\n",
       "    <tr>\n",
       "      <th>water</th>\n",
       "      <td>0.954972</td>\n",
       "      <td>0.891429</td>\n",
       "      <td>0.362791</td>\n",
       "      <td>0.515702</td>\n",
       "    </tr>\n",
       "    <tr>\n",
       "      <th>food</th>\n",
       "      <td>0.944675</td>\n",
       "      <td>0.835443</td>\n",
       "      <td>0.632011</td>\n",
       "      <td>0.719626</td>\n",
       "    </tr>\n",
       "    <tr>\n",
       "      <th>shelter</th>\n",
       "      <td>0.939911</td>\n",
       "      <td>0.839344</td>\n",
       "      <td>0.428094</td>\n",
       "      <td>0.566999</td>\n",
       "    </tr>\n",
       "    <tr>\n",
       "      <th>clothing</th>\n",
       "      <td>0.985400</td>\n",
       "      <td>0.750000</td>\n",
       "      <td>0.089109</td>\n",
       "      <td>0.159292</td>\n",
       "    </tr>\n",
       "    <tr>\n",
       "      <th>money</th>\n",
       "      <td>0.975411</td>\n",
       "      <td>0.833333</td>\n",
       "      <td>0.059524</td>\n",
       "      <td>0.111111</td>\n",
       "    </tr>\n",
       "    <tr>\n",
       "      <th>missing_people</th>\n",
       "      <td>0.989703</td>\n",
       "      <td>1.000000</td>\n",
       "      <td>0.014706</td>\n",
       "      <td>0.028986</td>\n",
       "    </tr>\n",
       "    <tr>\n",
       "      <th>refugees</th>\n",
       "      <td>0.968188</td>\n",
       "      <td>0.526316</td>\n",
       "      <td>0.048077</td>\n",
       "      <td>0.088106</td>\n",
       "    </tr>\n",
       "    <tr>\n",
       "      <th>death</th>\n",
       "      <td>0.961426</td>\n",
       "      <td>0.852459</td>\n",
       "      <td>0.176871</td>\n",
       "      <td>0.292958</td>\n",
       "    </tr>\n",
       "    <tr>\n",
       "      <th>other_aid</th>\n",
       "      <td>0.874136</td>\n",
       "      <td>0.619048</td>\n",
       "      <td>0.046763</td>\n",
       "      <td>0.086957</td>\n",
       "    </tr>\n",
       "    <tr>\n",
       "      <th>infrastructure_related</th>\n",
       "      <td>0.935300</td>\n",
       "      <td>0.000000</td>\n",
       "      <td>0.000000</td>\n",
       "      <td>0.000000</td>\n",
       "    </tr>\n",
       "    <tr>\n",
       "      <th>transport</th>\n",
       "      <td>0.957738</td>\n",
       "      <td>0.805556</td>\n",
       "      <td>0.097643</td>\n",
       "      <td>0.174174</td>\n",
       "    </tr>\n",
       "    <tr>\n",
       "      <th>buildings</th>\n",
       "      <td>0.950207</td>\n",
       "      <td>0.807018</td>\n",
       "      <td>0.128134</td>\n",
       "      <td>0.221154</td>\n",
       "    </tr>\n",
       "    <tr>\n",
       "      <th>electricity</th>\n",
       "      <td>0.981097</td>\n",
       "      <td>0.833333</td>\n",
       "      <td>0.039370</td>\n",
       "      <td>0.075188</td>\n",
       "    </tr>\n",
       "    <tr>\n",
       "      <th>tools</th>\n",
       "      <td>0.993853</td>\n",
       "      <td>0.000000</td>\n",
       "      <td>0.000000</td>\n",
       "      <td>0.000000</td>\n",
       "    </tr>\n",
       "    <tr>\n",
       "      <th>hospitals</th>\n",
       "      <td>0.989089</td>\n",
       "      <td>0.000000</td>\n",
       "      <td>0.000000</td>\n",
       "      <td>0.000000</td>\n",
       "    </tr>\n",
       "    <tr>\n",
       "      <th>shops</th>\n",
       "      <td>0.994621</td>\n",
       "      <td>0.000000</td>\n",
       "      <td>0.000000</td>\n",
       "      <td>0.000000</td>\n",
       "    </tr>\n",
       "    <tr>\n",
       "      <th>aid_centers</th>\n",
       "      <td>0.988935</td>\n",
       "      <td>0.000000</td>\n",
       "      <td>0.000000</td>\n",
       "      <td>0.000000</td>\n",
       "    </tr>\n",
       "    <tr>\n",
       "      <th>other_infrastructure</th>\n",
       "      <td>0.956355</td>\n",
       "      <td>0.000000</td>\n",
       "      <td>0.000000</td>\n",
       "      <td>0.000000</td>\n",
       "    </tr>\n",
       "    <tr>\n",
       "      <th>weather_related</th>\n",
       "      <td>0.884432</td>\n",
       "      <td>0.835651</td>\n",
       "      <td>0.728776</td>\n",
       "      <td>0.778563</td>\n",
       "    </tr>\n",
       "    <tr>\n",
       "      <th>floods</th>\n",
       "      <td>0.956508</td>\n",
       "      <td>0.914191</td>\n",
       "      <td>0.518727</td>\n",
       "      <td>0.661888</td>\n",
       "    </tr>\n",
       "    <tr>\n",
       "      <th>storm</th>\n",
       "      <td>0.943753</td>\n",
       "      <td>0.774468</td>\n",
       "      <td>0.583333</td>\n",
       "      <td>0.665448</td>\n",
       "    </tr>\n",
       "    <tr>\n",
       "      <th>fire</th>\n",
       "      <td>0.988781</td>\n",
       "      <td>0.000000</td>\n",
       "      <td>0.000000</td>\n",
       "      <td>0.000000</td>\n",
       "    </tr>\n",
       "    <tr>\n",
       "      <th>earthquake</th>\n",
       "      <td>0.970493</td>\n",
       "      <td>0.889098</td>\n",
       "      <td>0.780528</td>\n",
       "      <td>0.831283</td>\n",
       "    </tr>\n",
       "    <tr>\n",
       "      <th>cold</th>\n",
       "      <td>0.980022</td>\n",
       "      <td>1.000000</td>\n",
       "      <td>0.071429</td>\n",
       "      <td>0.133333</td>\n",
       "    </tr>\n",
       "    <tr>\n",
       "      <th>other_weather</th>\n",
       "      <td>0.950207</td>\n",
       "      <td>0.875000</td>\n",
       "      <td>0.021212</td>\n",
       "      <td>0.041420</td>\n",
       "    </tr>\n",
       "    <tr>\n",
       "      <th>direct_report</th>\n",
       "      <td>0.854925</td>\n",
       "      <td>0.787928</td>\n",
       "      <td>0.372398</td>\n",
       "      <td>0.505759</td>\n",
       "    </tr>\n",
       "  </tbody>\n",
       "</table>\n",
       "</div>"
      ],
      "text/plain": [
       "                        Accuracy  Precision    Recall  F1-score\n",
       "related                 0.821884   0.832132  0.958688  0.890938\n",
       "request                 0.898263   0.812147  0.520833  0.634658\n",
       "offer                   0.996004   0.000000  0.000000  0.000000\n",
       "aid_related             0.790380   0.757634  0.731393  0.744282\n",
       "medical_help            0.919625   0.693878  0.062731  0.115059\n",
       "medical_products        0.950669   0.882353  0.086455  0.157480\n",
       "search_and_rescue       0.971108   0.833333  0.026042  0.050505\n",
       "security                0.979560   0.500000  0.007519  0.014815\n",
       "military                0.967573   0.791667  0.084444  0.152610\n",
       "water                   0.954972   0.891429  0.362791  0.515702\n",
       "food                    0.944675   0.835443  0.632011  0.719626\n",
       "shelter                 0.939911   0.839344  0.428094  0.566999\n",
       "clothing                0.985400   0.750000  0.089109  0.159292\n",
       "money                   0.975411   0.833333  0.059524  0.111111\n",
       "missing_people          0.989703   1.000000  0.014706  0.028986\n",
       "refugees                0.968188   0.526316  0.048077  0.088106\n",
       "death                   0.961426   0.852459  0.176871  0.292958\n",
       "other_aid               0.874136   0.619048  0.046763  0.086957\n",
       "infrastructure_related  0.935300   0.000000  0.000000  0.000000\n",
       "transport               0.957738   0.805556  0.097643  0.174174\n",
       "buildings               0.950207   0.807018  0.128134  0.221154\n",
       "electricity             0.981097   0.833333  0.039370  0.075188\n",
       "tools                   0.993853   0.000000  0.000000  0.000000\n",
       "hospitals               0.989089   0.000000  0.000000  0.000000\n",
       "shops                   0.994621   0.000000  0.000000  0.000000\n",
       "aid_centers             0.988935   0.000000  0.000000  0.000000\n",
       "other_infrastructure    0.956355   0.000000  0.000000  0.000000\n",
       "weather_related         0.884432   0.835651  0.728776  0.778563\n",
       "floods                  0.956508   0.914191  0.518727  0.661888\n",
       "storm                   0.943753   0.774468  0.583333  0.665448\n",
       "fire                    0.988781   0.000000  0.000000  0.000000\n",
       "earthquake              0.970493   0.889098  0.780528  0.831283\n",
       "cold                    0.980022   1.000000  0.071429  0.133333\n",
       "other_weather           0.950207   0.875000  0.021212  0.041420\n",
       "direct_report           0.854925   0.787928  0.372398  0.505759"
      ]
     },
     "execution_count": 75,
     "metadata": {},
     "output_type": "execute_result"
    }
   ],
   "source": [
    "grid_model_df"
   ]
  },
  {
   "cell_type": "code",
   "execution_count": 76,
   "metadata": {
    "ExecuteTime": {
     "end_time": "2019-07-10T06:23:02.063244Z",
     "start_time": "2019-07-10T06:23:02.037860Z"
    }
   },
   "outputs": [
    {
     "data": {
      "text/html": [
       "<div>\n",
       "<style scoped>\n",
       "    .dataframe tbody tr th:only-of-type {\n",
       "        vertical-align: middle;\n",
       "    }\n",
       "\n",
       "    .dataframe tbody tr th {\n",
       "        vertical-align: top;\n",
       "    }\n",
       "\n",
       "    .dataframe thead th {\n",
       "        text-align: right;\n",
       "    }\n",
       "</style>\n",
       "<table border=\"1\" class=\"dataframe\">\n",
       "  <thead>\n",
       "    <tr style=\"text-align: right;\">\n",
       "      <th></th>\n",
       "      <th>Accuracy</th>\n",
       "      <th>Precision</th>\n",
       "      <th>Recall</th>\n",
       "      <th>F1-score</th>\n",
       "    </tr>\n",
       "  </thead>\n",
       "  <tbody>\n",
       "    <tr>\n",
       "      <th>count</th>\n",
       "      <td>35.000000</td>\n",
       "      <td>35.000000</td>\n",
       "      <td>35.000000</td>\n",
       "      <td>35.000000</td>\n",
       "    </tr>\n",
       "    <tr>\n",
       "      <th>mean</th>\n",
       "      <td>0.947577</td>\n",
       "      <td>0.622079</td>\n",
       "      <td>0.219360</td>\n",
       "      <td>0.269094</td>\n",
       "    </tr>\n",
       "    <tr>\n",
       "      <th>std</th>\n",
       "      <td>0.049517</td>\n",
       "      <td>0.358070</td>\n",
       "      <td>0.284069</td>\n",
       "      <td>0.300172</td>\n",
       "    </tr>\n",
       "    <tr>\n",
       "      <th>min</th>\n",
       "      <td>0.790380</td>\n",
       "      <td>0.000000</td>\n",
       "      <td>0.000000</td>\n",
       "      <td>0.000000</td>\n",
       "    </tr>\n",
       "    <tr>\n",
       "      <th>25%</th>\n",
       "      <td>0.941832</td>\n",
       "      <td>0.513158</td>\n",
       "      <td>0.011112</td>\n",
       "      <td>0.021900</td>\n",
       "    </tr>\n",
       "    <tr>\n",
       "      <th>50%</th>\n",
       "      <td>0.957738</td>\n",
       "      <td>0.805556</td>\n",
       "      <td>0.071429</td>\n",
       "      <td>0.133333</td>\n",
       "    </tr>\n",
       "    <tr>\n",
       "      <th>75%</th>\n",
       "      <td>0.980559</td>\n",
       "      <td>0.837498</td>\n",
       "      <td>0.400246</td>\n",
       "      <td>0.541351</td>\n",
       "    </tr>\n",
       "    <tr>\n",
       "      <th>max</th>\n",
       "      <td>0.996004</td>\n",
       "      <td>1.000000</td>\n",
       "      <td>0.958688</td>\n",
       "      <td>0.890938</td>\n",
       "    </tr>\n",
       "  </tbody>\n",
       "</table>\n",
       "</div>"
      ],
      "text/plain": [
       "        Accuracy  Precision     Recall   F1-score\n",
       "count  35.000000  35.000000  35.000000  35.000000\n",
       "mean    0.947577   0.622079   0.219360   0.269094\n",
       "std     0.049517   0.358070   0.284069   0.300172\n",
       "min     0.790380   0.000000   0.000000   0.000000\n",
       "25%     0.941832   0.513158   0.011112   0.021900\n",
       "50%     0.957738   0.805556   0.071429   0.133333\n",
       "75%     0.980559   0.837498   0.400246   0.541351\n",
       "max     0.996004   1.000000   0.958688   0.890938"
      ]
     },
     "execution_count": 76,
     "metadata": {},
     "output_type": "execute_result"
    }
   ],
   "source": [
    "grid_model_df.describe()"
   ]
  },
  {
   "cell_type": "code",
   "execution_count": 74,
   "metadata": {
    "ExecuteTime": {
     "end_time": "2019-07-10T06:21:34.611262Z",
     "start_time": "2019-07-10T06:21:34.604431Z"
    }
   },
   "outputs": [
    {
     "data": {
      "text/plain": [
       "0.0939941623902584"
      ]
     },
     "execution_count": 74,
     "metadata": {},
     "output_type": "execute_result"
    }
   ],
   "source": [
    "(grid_model_df['F1-score'].mean() - test_metrics_df['F1-score'].mean()) / test_metrics_df['F1-score'].mean()"
   ]
  },
  {
   "cell_type": "markdown",
   "metadata": {},
   "source": [
    "### 8. Try improving your model further. Here are a few ideas:\n",
    "* try other machine learning algorithms\n",
    "* add other features besides the TF-IDF"
   ]
  },
  {
   "cell_type": "markdown",
   "metadata": {},
   "source": [
    "### Logistic Regression\n",
    "\n",
    "* We will use logistic regression in the pipeline to try to imprive the results.  Logistic regression is faster to train and a simple model, it aloows use of rich feature representation. "
   ]
  },
  {
   "cell_type": "code",
   "execution_count": 78,
   "metadata": {
    "ExecuteTime": {
     "end_time": "2019-07-10T06:38:32.068955Z",
     "start_time": "2019-07-10T06:35:54.414767Z"
    }
   },
   "outputs": [
    {
     "data": {
      "text/plain": [
       "Pipeline(memory=None,\n",
       "         steps=[('vect',\n",
       "                 CountVectorizer(analyzer='word', binary=False,\n",
       "                                 decode_error='strict',\n",
       "                                 dtype=<class 'numpy.int64'>, encoding='utf-8',\n",
       "                                 input='content', lowercase=True, max_df=1.0,\n",
       "                                 max_features=None, min_df=1,\n",
       "                                 ngram_range=(1, 1), preprocessor=None,\n",
       "                                 stop_words=None, strip_accents=None,\n",
       "                                 token_pattern='(?u)\\\\b\\\\w\\\\w+\\\\b',\n",
       "                                 tokenizer=<function tokenize at...\n",
       "                 TfidfTransformer(norm='l2', smooth_idf=True,\n",
       "                                  sublinear_tf=False, use_idf=True)),\n",
       "                ('clf',\n",
       "                 MultiOutputClassifier(estimator=LogisticRegression(C=1.0,\n",
       "                                                                    class_weight=None,\n",
       "                                                                    dual=False,\n",
       "                                                                    fit_intercept=True,\n",
       "                                                                    intercept_scaling=1,\n",
       "                                                                    l1_ratio=None,\n",
       "                                                                    max_iter=100,\n",
       "                                                                    multi_class='warn',\n",
       "                                                                    n_jobs=None,\n",
       "                                                                    penalty='l2',\n",
       "                                                                    random_state=None,\n",
       "                                                                    solver='warn',\n",
       "                                                                    tol=0.0001,\n",
       "                                                                    verbose=0,\n",
       "                                                                    warm_start=False),\n",
       "                                       n_jobs=None))],\n",
       "         verbose=False)"
      ]
     },
     "execution_count": 78,
     "metadata": {},
     "output_type": "execute_result"
    }
   ],
   "source": [
    "pipeline_log = Pipeline([\n",
    "    ('vect', CountVectorizer(tokenizer=tokenize)),\n",
    "    ('tfidf', TfidfTransformer()),\n",
    "    ('clf', MultiOutputClassifier(LogisticRegression()))\n",
    "])\n",
    "\n",
    "pipeline_log.fit(X_train, Y_train)"
   ]
  },
  {
   "cell_type": "code",
   "execution_count": 79,
   "metadata": {
    "ExecuteTime": {
     "end_time": "2019-07-10T06:40:16.046261Z",
     "start_time": "2019-07-10T06:39:24.594407Z"
    }
   },
   "outputs": [],
   "source": [
    "test_log_df = evaluate_model(pipeline_log, X_test, Y_test, col_names)"
   ]
  },
  {
   "cell_type": "code",
   "execution_count": 81,
   "metadata": {
    "ExecuteTime": {
     "end_time": "2019-07-10T06:41:23.575564Z",
     "start_time": "2019-07-10T06:41:23.547258Z"
    }
   },
   "outputs": [
    {
     "data": {
      "text/html": [
       "<div>\n",
       "<style scoped>\n",
       "    .dataframe tbody tr th:only-of-type {\n",
       "        vertical-align: middle;\n",
       "    }\n",
       "\n",
       "    .dataframe tbody tr th {\n",
       "        vertical-align: top;\n",
       "    }\n",
       "\n",
       "    .dataframe thead th {\n",
       "        text-align: right;\n",
       "    }\n",
       "</style>\n",
       "<table border=\"1\" class=\"dataframe\">\n",
       "  <thead>\n",
       "    <tr style=\"text-align: right;\">\n",
       "      <th></th>\n",
       "      <th>Accuracy</th>\n",
       "      <th>Precision</th>\n",
       "      <th>Recall</th>\n",
       "      <th>F1-score</th>\n",
       "    </tr>\n",
       "  </thead>\n",
       "  <tbody>\n",
       "    <tr>\n",
       "      <th>count</th>\n",
       "      <td>35.000000</td>\n",
       "      <td>35.000000</td>\n",
       "      <td>35.000000</td>\n",
       "      <td>35.000000</td>\n",
       "    </tr>\n",
       "    <tr>\n",
       "      <th>mean</th>\n",
       "      <td>0.946985</td>\n",
       "      <td>0.632992</td>\n",
       "      <td>0.234009</td>\n",
       "      <td>0.298911</td>\n",
       "    </tr>\n",
       "    <tr>\n",
       "      <th>std</th>\n",
       "      <td>0.050501</td>\n",
       "      <td>0.299171</td>\n",
       "      <td>0.257880</td>\n",
       "      <td>0.276961</td>\n",
       "    </tr>\n",
       "    <tr>\n",
       "      <th>min</th>\n",
       "      <td>0.775012</td>\n",
       "      <td>0.000000</td>\n",
       "      <td>0.000000</td>\n",
       "      <td>0.000000</td>\n",
       "    </tr>\n",
       "    <tr>\n",
       "      <th>25%</th>\n",
       "      <td>0.938067</td>\n",
       "      <td>0.524194</td>\n",
       "      <td>0.035210</td>\n",
       "      <td>0.066332</td>\n",
       "    </tr>\n",
       "    <tr>\n",
       "      <th>50%</th>\n",
       "      <td>0.957277</td>\n",
       "      <td>0.750000</td>\n",
       "      <td>0.133858</td>\n",
       "      <td>0.225166</td>\n",
       "    </tr>\n",
       "    <tr>\n",
       "      <th>75%</th>\n",
       "      <td>0.981558</td>\n",
       "      <td>0.831301</td>\n",
       "      <td>0.439703</td>\n",
       "      <td>0.578159</td>\n",
       "    </tr>\n",
       "    <tr>\n",
       "      <th>max</th>\n",
       "      <td>0.996004</td>\n",
       "      <td>1.000000</td>\n",
       "      <td>0.961320</td>\n",
       "      <td>0.894310</td>\n",
       "    </tr>\n",
       "  </tbody>\n",
       "</table>\n",
       "</div>"
      ],
      "text/plain": [
       "        Accuracy  Precision     Recall   F1-score\n",
       "count  35.000000  35.000000  35.000000  35.000000\n",
       "mean    0.946985   0.632992   0.234009   0.298911\n",
       "std     0.050501   0.299171   0.257880   0.276961\n",
       "min     0.775012   0.000000   0.000000   0.000000\n",
       "25%     0.938067   0.524194   0.035210   0.066332\n",
       "50%     0.957277   0.750000   0.133858   0.225166\n",
       "75%     0.981558   0.831301   0.439703   0.578159\n",
       "max     0.996004   1.000000   0.961320   0.894310"
      ]
     },
     "execution_count": 81,
     "metadata": {},
     "output_type": "execute_result"
    }
   ],
   "source": [
    "test_log_df.describe()"
   ]
  },
  {
   "cell_type": "code",
   "execution_count": 82,
   "metadata": {
    "ExecuteTime": {
     "end_time": "2019-07-10T09:32:54.763123Z",
     "start_time": "2019-07-10T06:48:04.320029Z"
    }
   },
   "outputs": [
    {
     "name": "stdout",
     "output_type": "stream",
     "text": [
      "Fitting 3 folds for each of 20 candidates, totalling 60 fits\n",
      "[CV] clf__estimator__C=1e-05, clf__estimator__penalty=l1, tfidf__use_idf=True, vect__max_df=1.0 \n"
     ]
    },
    {
     "name": "stderr",
     "output_type": "stream",
     "text": [
      "[Parallel(n_jobs=1)]: Using backend SequentialBackend with 1 concurrent workers.\n"
     ]
    },
    {
     "name": "stdout",
     "output_type": "stream",
     "text": [
      "[CV]  clf__estimator__C=1e-05, clf__estimator__penalty=l1, tfidf__use_idf=True, vect__max_df=1.0, score=0.000, total= 2.6min\n",
      "[CV] clf__estimator__C=1e-05, clf__estimator__penalty=l1, tfidf__use_idf=True, vect__max_df=1.0 \n"
     ]
    },
    {
     "name": "stderr",
     "output_type": "stream",
     "text": [
      "[Parallel(n_jobs=1)]: Done   1 out of   1 | elapsed:  2.6min remaining:    0.0s\n"
     ]
    },
    {
     "name": "stdout",
     "output_type": "stream",
     "text": [
      "[CV]  clf__estimator__C=1e-05, clf__estimator__penalty=l1, tfidf__use_idf=True, vect__max_df=1.0, score=0.000, total= 2.6min\n",
      "[CV] clf__estimator__C=1e-05, clf__estimator__penalty=l1, tfidf__use_idf=True, vect__max_df=1.0 \n"
     ]
    },
    {
     "name": "stderr",
     "output_type": "stream",
     "text": [
      "[Parallel(n_jobs=1)]: Done   2 out of   2 | elapsed:  5.1min remaining:    0.0s\n"
     ]
    },
    {
     "name": "stdout",
     "output_type": "stream",
     "text": [
      "[CV]  clf__estimator__C=1e-05, clf__estimator__penalty=l1, tfidf__use_idf=True, vect__max_df=1.0, score=0.000, total= 2.7min\n",
      "[CV] clf__estimator__C=1e-05, clf__estimator__penalty=l2, tfidf__use_idf=True, vect__max_df=1.0 \n"
     ]
    },
    {
     "name": "stderr",
     "output_type": "stream",
     "text": [
      "[Parallel(n_jobs=1)]: Done   3 out of   3 | elapsed:  7.8min remaining:    0.0s\n"
     ]
    },
    {
     "name": "stdout",
     "output_type": "stream",
     "text": [
      "[CV]  clf__estimator__C=1e-05, clf__estimator__penalty=l2, tfidf__use_idf=True, vect__max_df=1.0, score=0.000, total= 2.4min\n",
      "[CV] clf__estimator__C=1e-05, clf__estimator__penalty=l2, tfidf__use_idf=True, vect__max_df=1.0 \n"
     ]
    },
    {
     "name": "stderr",
     "output_type": "stream",
     "text": [
      "[Parallel(n_jobs=1)]: Done   4 out of   4 | elapsed: 10.2min remaining:    0.0s\n"
     ]
    },
    {
     "name": "stdout",
     "output_type": "stream",
     "text": [
      "[CV]  clf__estimator__C=1e-05, clf__estimator__penalty=l2, tfidf__use_idf=True, vect__max_df=1.0, score=0.000, total= 2.5min\n",
      "[CV] clf__estimator__C=1e-05, clf__estimator__penalty=l2, tfidf__use_idf=True, vect__max_df=1.0 \n",
      "[CV]  clf__estimator__C=1e-05, clf__estimator__penalty=l2, tfidf__use_idf=True, vect__max_df=1.0, score=0.000, total= 2.4min\n",
      "[CV] clf__estimator__C=0.0001291549665014884, clf__estimator__penalty=l1, tfidf__use_idf=True, vect__max_df=1.0 \n",
      "[CV]  clf__estimator__C=0.0001291549665014884, clf__estimator__penalty=l1, tfidf__use_idf=True, vect__max_df=1.0, score=0.000, total= 2.6min\n",
      "[CV] clf__estimator__C=0.0001291549665014884, clf__estimator__penalty=l1, tfidf__use_idf=True, vect__max_df=1.0 \n",
      "[CV]  clf__estimator__C=0.0001291549665014884, clf__estimator__penalty=l1, tfidf__use_idf=True, vect__max_df=1.0, score=0.000, total= 2.7min\n",
      "[CV] clf__estimator__C=0.0001291549665014884, clf__estimator__penalty=l1, tfidf__use_idf=True, vect__max_df=1.0 \n",
      "[CV]  clf__estimator__C=0.0001291549665014884, clf__estimator__penalty=l1, tfidf__use_idf=True, vect__max_df=1.0, score=0.000, total= 2.9min\n",
      "[CV] clf__estimator__C=0.0001291549665014884, clf__estimator__penalty=l2, tfidf__use_idf=True, vect__max_df=1.0 \n",
      "[CV]  clf__estimator__C=0.0001291549665014884, clf__estimator__penalty=l2, tfidf__use_idf=True, vect__max_df=1.0, score=0.000, total= 2.7min\n",
      "[CV] clf__estimator__C=0.0001291549665014884, clf__estimator__penalty=l2, tfidf__use_idf=True, vect__max_df=1.0 \n",
      "[CV]  clf__estimator__C=0.0001291549665014884, clf__estimator__penalty=l2, tfidf__use_idf=True, vect__max_df=1.0, score=0.000, total= 2.6min\n",
      "[CV] clf__estimator__C=0.0001291549665014884, clf__estimator__penalty=l2, tfidf__use_idf=True, vect__max_df=1.0 \n",
      "[CV]  clf__estimator__C=0.0001291549665014884, clf__estimator__penalty=l2, tfidf__use_idf=True, vect__max_df=1.0, score=0.000, total= 2.6min\n",
      "[CV] clf__estimator__C=0.0016681005372000592, clf__estimator__penalty=l1, tfidf__use_idf=True, vect__max_df=1.0 \n",
      "[CV]  clf__estimator__C=0.0016681005372000592, clf__estimator__penalty=l1, tfidf__use_idf=True, vect__max_df=1.0, score=0.000, total= 2.6min\n",
      "[CV] clf__estimator__C=0.0016681005372000592, clf__estimator__penalty=l1, tfidf__use_idf=True, vect__max_df=1.0 \n",
      "[CV]  clf__estimator__C=0.0016681005372000592, clf__estimator__penalty=l1, tfidf__use_idf=True, vect__max_df=1.0, score=0.000, total= 2.6min\n",
      "[CV] clf__estimator__C=0.0016681005372000592, clf__estimator__penalty=l1, tfidf__use_idf=True, vect__max_df=1.0 \n",
      "[CV]  clf__estimator__C=0.0016681005372000592, clf__estimator__penalty=l1, tfidf__use_idf=True, vect__max_df=1.0, score=0.000, total= 2.6min\n",
      "[CV] clf__estimator__C=0.0016681005372000592, clf__estimator__penalty=l2, tfidf__use_idf=True, vect__max_df=1.0 \n",
      "[CV]  clf__estimator__C=0.0016681005372000592, clf__estimator__penalty=l2, tfidf__use_idf=True, vect__max_df=1.0, score=0.000, total= 2.6min\n",
      "[CV] clf__estimator__C=0.0016681005372000592, clf__estimator__penalty=l2, tfidf__use_idf=True, vect__max_df=1.0 \n",
      "[CV]  clf__estimator__C=0.0016681005372000592, clf__estimator__penalty=l2, tfidf__use_idf=True, vect__max_df=1.0, score=0.000, total= 2.5min\n",
      "[CV] clf__estimator__C=0.0016681005372000592, clf__estimator__penalty=l2, tfidf__use_idf=True, vect__max_df=1.0 \n",
      "[CV]  clf__estimator__C=0.0016681005372000592, clf__estimator__penalty=l2, tfidf__use_idf=True, vect__max_df=1.0, score=0.000, total= 2.7min\n",
      "[CV] clf__estimator__C=0.021544346900318846, clf__estimator__penalty=l1, tfidf__use_idf=True, vect__max_df=1.0 \n",
      "[CV]  clf__estimator__C=0.021544346900318846, clf__estimator__penalty=l1, tfidf__use_idf=True, vect__max_df=1.0, score=0.000, total= 2.6min\n",
      "[CV] clf__estimator__C=0.021544346900318846, clf__estimator__penalty=l1, tfidf__use_idf=True, vect__max_df=1.0 \n",
      "[CV]  clf__estimator__C=0.021544346900318846, clf__estimator__penalty=l1, tfidf__use_idf=True, vect__max_df=1.0, score=0.000, total= 2.6min\n",
      "[CV] clf__estimator__C=0.021544346900318846, clf__estimator__penalty=l1, tfidf__use_idf=True, vect__max_df=1.0 \n",
      "[CV]  clf__estimator__C=0.021544346900318846, clf__estimator__penalty=l1, tfidf__use_idf=True, vect__max_df=1.0, score=0.000, total= 2.6min\n",
      "[CV] clf__estimator__C=0.021544346900318846, clf__estimator__penalty=l2, tfidf__use_idf=True, vect__max_df=1.0 \n",
      "[CV]  clf__estimator__C=0.021544346900318846, clf__estimator__penalty=l2, tfidf__use_idf=True, vect__max_df=1.0, score=0.000, total= 2.6min\n",
      "[CV] clf__estimator__C=0.021544346900318846, clf__estimator__penalty=l2, tfidf__use_idf=True, vect__max_df=1.0 \n",
      "[CV]  clf__estimator__C=0.021544346900318846, clf__estimator__penalty=l2, tfidf__use_idf=True, vect__max_df=1.0, score=0.000, total= 2.7min\n",
      "[CV] clf__estimator__C=0.021544346900318846, clf__estimator__penalty=l2, tfidf__use_idf=True, vect__max_df=1.0 \n",
      "[CV]  clf__estimator__C=0.021544346900318846, clf__estimator__penalty=l2, tfidf__use_idf=True, vect__max_df=1.0, score=0.000, total= 2.8min\n",
      "[CV] clf__estimator__C=0.2782559402207126, clf__estimator__penalty=l1, tfidf__use_idf=True, vect__max_df=1.0 \n",
      "[CV]  clf__estimator__C=0.2782559402207126, clf__estimator__penalty=l1, tfidf__use_idf=True, vect__max_df=1.0, score=0.208, total= 2.7min\n",
      "[CV] clf__estimator__C=0.2782559402207126, clf__estimator__penalty=l1, tfidf__use_idf=True, vect__max_df=1.0 \n",
      "[CV]  clf__estimator__C=0.2782559402207126, clf__estimator__penalty=l1, tfidf__use_idf=True, vect__max_df=1.0, score=0.171, total= 2.7min\n",
      "[CV] clf__estimator__C=0.2782559402207126, clf__estimator__penalty=l1, tfidf__use_idf=True, vect__max_df=1.0 \n",
      "[CV]  clf__estimator__C=0.2782559402207126, clf__estimator__penalty=l1, tfidf__use_idf=True, vect__max_df=1.0, score=0.209, total= 2.6min\n",
      "[CV] clf__estimator__C=0.2782559402207126, clf__estimator__penalty=l2, tfidf__use_idf=True, vect__max_df=1.0 \n",
      "[CV]  clf__estimator__C=0.2782559402207126, clf__estimator__penalty=l2, tfidf__use_idf=True, vect__max_df=1.0, score=0.000, total= 2.7min\n",
      "[CV] clf__estimator__C=0.2782559402207126, clf__estimator__penalty=l2, tfidf__use_idf=True, vect__max_df=1.0 \n",
      "[CV]  clf__estimator__C=0.2782559402207126, clf__estimator__penalty=l2, tfidf__use_idf=True, vect__max_df=1.0, score=0.012, total= 3.4min\n",
      "[CV] clf__estimator__C=0.2782559402207126, clf__estimator__penalty=l2, tfidf__use_idf=True, vect__max_df=1.0 \n",
      "[CV]  clf__estimator__C=0.2782559402207126, clf__estimator__penalty=l2, tfidf__use_idf=True, vect__max_df=1.0, score=0.007, total= 2.9min\n",
      "[CV] clf__estimator__C=3.593813663804626, clf__estimator__penalty=l1, tfidf__use_idf=True, vect__max_df=1.0 \n",
      "[CV]  clf__estimator__C=3.593813663804626, clf__estimator__penalty=l1, tfidf__use_idf=True, vect__max_df=1.0, score=0.407, total= 2.9min\n",
      "[CV] clf__estimator__C=3.593813663804626, clf__estimator__penalty=l1, tfidf__use_idf=True, vect__max_df=1.0 \n",
      "[CV]  clf__estimator__C=3.593813663804626, clf__estimator__penalty=l1, tfidf__use_idf=True, vect__max_df=1.0, score=0.394, total= 2.8min\n",
      "[CV] clf__estimator__C=3.593813663804626, clf__estimator__penalty=l1, tfidf__use_idf=True, vect__max_df=1.0 \n",
      "[CV]  clf__estimator__C=3.593813663804626, clf__estimator__penalty=l1, tfidf__use_idf=True, vect__max_df=1.0, score=0.398, total= 2.9min\n",
      "[CV] clf__estimator__C=3.593813663804626, clf__estimator__penalty=l2, tfidf__use_idf=True, vect__max_df=1.0 \n",
      "[CV]  clf__estimator__C=3.593813663804626, clf__estimator__penalty=l2, tfidf__use_idf=True, vect__max_df=1.0, score=0.270, total= 2.8min\n",
      "[CV] clf__estimator__C=3.593813663804626, clf__estimator__penalty=l2, tfidf__use_idf=True, vect__max_df=1.0 \n",
      "[CV]  clf__estimator__C=3.593813663804626, clf__estimator__penalty=l2, tfidf__use_idf=True, vect__max_df=1.0, score=0.271, total= 2.9min\n",
      "[CV] clf__estimator__C=3.593813663804626, clf__estimator__penalty=l2, tfidf__use_idf=True, vect__max_df=1.0 \n",
      "[CV]  clf__estimator__C=3.593813663804626, clf__estimator__penalty=l2, tfidf__use_idf=True, vect__max_df=1.0, score=0.320, total= 2.6min\n",
      "[CV] clf__estimator__C=46.41588833612782, clf__estimator__penalty=l1, tfidf__use_idf=True, vect__max_df=1.0 \n",
      "[CV]  clf__estimator__C=46.41588833612782, clf__estimator__penalty=l1, tfidf__use_idf=True, vect__max_df=1.0, score=0.425, total= 4.6min\n",
      "[CV] clf__estimator__C=46.41588833612782, clf__estimator__penalty=l1, tfidf__use_idf=True, vect__max_df=1.0 \n"
     ]
    },
    {
     "name": "stdout",
     "output_type": "stream",
     "text": [
      "[CV]  clf__estimator__C=46.41588833612782, clf__estimator__penalty=l1, tfidf__use_idf=True, vect__max_df=1.0, score=0.401, total= 5.8min\n",
      "[CV] clf__estimator__C=46.41588833612782, clf__estimator__penalty=l1, tfidf__use_idf=True, vect__max_df=1.0 \n",
      "[CV]  clf__estimator__C=46.41588833612782, clf__estimator__penalty=l1, tfidf__use_idf=True, vect__max_df=1.0, score=0.366, total= 5.6min\n",
      "[CV] clf__estimator__C=46.41588833612782, clf__estimator__penalty=l2, tfidf__use_idf=True, vect__max_df=1.0 \n",
      "[CV]  clf__estimator__C=46.41588833612782, clf__estimator__penalty=l2, tfidf__use_idf=True, vect__max_df=1.0, score=0.351, total= 2.5min\n",
      "[CV] clf__estimator__C=46.41588833612782, clf__estimator__penalty=l2, tfidf__use_idf=True, vect__max_df=1.0 \n",
      "[CV]  clf__estimator__C=46.41588833612782, clf__estimator__penalty=l2, tfidf__use_idf=True, vect__max_df=1.0, score=0.354, total= 2.4min\n",
      "[CV] clf__estimator__C=46.41588833612782, clf__estimator__penalty=l2, tfidf__use_idf=True, vect__max_df=1.0 \n",
      "[CV]  clf__estimator__C=46.41588833612782, clf__estimator__penalty=l2, tfidf__use_idf=True, vect__max_df=1.0, score=0.388, total= 2.3min\n",
      "[CV] clf__estimator__C=599.4842503189421, clf__estimator__penalty=l1, tfidf__use_idf=True, vect__max_df=1.0 \n",
      "[CV]  clf__estimator__C=599.4842503189421, clf__estimator__penalty=l1, tfidf__use_idf=True, vect__max_df=1.0, score=0.404, total= 2.4min\n",
      "[CV] clf__estimator__C=599.4842503189421, clf__estimator__penalty=l1, tfidf__use_idf=True, vect__max_df=1.0 \n",
      "[CV]  clf__estimator__C=599.4842503189421, clf__estimator__penalty=l1, tfidf__use_idf=True, vect__max_df=1.0, score=0.376, total= 2.4min\n",
      "[CV] clf__estimator__C=599.4842503189421, clf__estimator__penalty=l1, tfidf__use_idf=True, vect__max_df=1.0 \n",
      "[CV]  clf__estimator__C=599.4842503189421, clf__estimator__penalty=l1, tfidf__use_idf=True, vect__max_df=1.0, score=0.351, total= 2.4min\n",
      "[CV] clf__estimator__C=599.4842503189421, clf__estimator__penalty=l2, tfidf__use_idf=True, vect__max_df=1.0 \n",
      "[CV]  clf__estimator__C=599.4842503189421, clf__estimator__penalty=l2, tfidf__use_idf=True, vect__max_df=1.0, score=0.352, total= 2.4min\n",
      "[CV] clf__estimator__C=599.4842503189421, clf__estimator__penalty=l2, tfidf__use_idf=True, vect__max_df=1.0 \n",
      "[CV]  clf__estimator__C=599.4842503189421, clf__estimator__penalty=l2, tfidf__use_idf=True, vect__max_df=1.0, score=0.363, total= 2.3min\n",
      "[CV] clf__estimator__C=599.4842503189421, clf__estimator__penalty=l2, tfidf__use_idf=True, vect__max_df=1.0 \n",
      "[CV]  clf__estimator__C=599.4842503189421, clf__estimator__penalty=l2, tfidf__use_idf=True, vect__max_df=1.0, score=0.369, total= 2.5min\n",
      "[CV] clf__estimator__C=7742.636826811277, clf__estimator__penalty=l1, tfidf__use_idf=True, vect__max_df=1.0 \n",
      "[CV]  clf__estimator__C=7742.636826811277, clf__estimator__penalty=l1, tfidf__use_idf=True, vect__max_df=1.0, score=0.364, total= 2.5min\n",
      "[CV] clf__estimator__C=7742.636826811277, clf__estimator__penalty=l1, tfidf__use_idf=True, vect__max_df=1.0 \n",
      "[CV]  clf__estimator__C=7742.636826811277, clf__estimator__penalty=l1, tfidf__use_idf=True, vect__max_df=1.0, score=0.347, total= 2.5min\n",
      "[CV] clf__estimator__C=7742.636826811277, clf__estimator__penalty=l1, tfidf__use_idf=True, vect__max_df=1.0 \n",
      "[CV]  clf__estimator__C=7742.636826811277, clf__estimator__penalty=l1, tfidf__use_idf=True, vect__max_df=1.0, score=0.360, total= 2.6min\n",
      "[CV] clf__estimator__C=7742.636826811277, clf__estimator__penalty=l2, tfidf__use_idf=True, vect__max_df=1.0 \n",
      "[CV]  clf__estimator__C=7742.636826811277, clf__estimator__penalty=l2, tfidf__use_idf=True, vect__max_df=1.0, score=0.352, total= 2.7min\n",
      "[CV] clf__estimator__C=7742.636826811277, clf__estimator__penalty=l2, tfidf__use_idf=True, vect__max_df=1.0 \n",
      "[CV]  clf__estimator__C=7742.636826811277, clf__estimator__penalty=l2, tfidf__use_idf=True, vect__max_df=1.0, score=0.352, total= 2.4min\n",
      "[CV] clf__estimator__C=7742.636826811277, clf__estimator__penalty=l2, tfidf__use_idf=True, vect__max_df=1.0 \n",
      "[CV]  clf__estimator__C=7742.636826811277, clf__estimator__penalty=l2, tfidf__use_idf=True, vect__max_df=1.0, score=0.355, total= 2.4min\n",
      "[CV] clf__estimator__C=100000.0, clf__estimator__penalty=l1, tfidf__use_idf=True, vect__max_df=1.0 \n",
      "[CV]  clf__estimator__C=100000.0, clf__estimator__penalty=l1, tfidf__use_idf=True, vect__max_df=1.0, score=0.260, total= 2.5min\n",
      "[CV] clf__estimator__C=100000.0, clf__estimator__penalty=l1, tfidf__use_idf=True, vect__max_df=1.0 \n",
      "[CV]  clf__estimator__C=100000.0, clf__estimator__penalty=l1, tfidf__use_idf=True, vect__max_df=1.0, score=0.282, total= 2.2min\n",
      "[CV] clf__estimator__C=100000.0, clf__estimator__penalty=l1, tfidf__use_idf=True, vect__max_df=1.0 \n",
      "[CV]  clf__estimator__C=100000.0, clf__estimator__penalty=l1, tfidf__use_idf=True, vect__max_df=1.0, score=0.277, total= 2.1min\n",
      "[CV] clf__estimator__C=100000.0, clf__estimator__penalty=l2, tfidf__use_idf=True, vect__max_df=1.0 \n",
      "[CV]  clf__estimator__C=100000.0, clf__estimator__penalty=l2, tfidf__use_idf=True, vect__max_df=1.0, score=0.352, total= 2.0min\n",
      "[CV] clf__estimator__C=100000.0, clf__estimator__penalty=l2, tfidf__use_idf=True, vect__max_df=1.0 \n",
      "[CV]  clf__estimator__C=100000.0, clf__estimator__penalty=l2, tfidf__use_idf=True, vect__max_df=1.0, score=0.355, total= 2.1min\n",
      "[CV] clf__estimator__C=100000.0, clf__estimator__penalty=l2, tfidf__use_idf=True, vect__max_df=1.0 \n",
      "[CV]  clf__estimator__C=100000.0, clf__estimator__penalty=l2, tfidf__use_idf=True, vect__max_df=1.0, score=0.347, total= 2.0min\n"
     ]
    },
    {
     "name": "stderr",
     "output_type": "stream",
     "text": [
      "[Parallel(n_jobs=1)]: Done  60 out of  60 | elapsed: 162.6min finished\n"
     ]
    }
   ],
   "source": [
    "parameters_log = {\n",
    "    'vect__max_df': [1.0],\n",
    "    'tfidf__use_idf': [True],\n",
    "    'clf__estimator__penalty': ['l1', 'l2'],\n",
    "    'clf__estimator__C': np.logspace(-5, 5, 10)}\n",
    "\n",
    "\n",
    "cv_log = GridSearchCV(pipeline_log, param_grid=parameters_log, scoring=scorer, verbose=5)\n",
    "\n",
    "grid_model_log = cv_log.fit(X_train, Y_train)"
   ]
  },
  {
   "cell_type": "code",
   "execution_count": 84,
   "metadata": {
    "ExecuteTime": {
     "end_time": "2019-07-10T09:40:55.409380Z",
     "start_time": "2019-07-10T09:40:55.403524Z"
    }
   },
   "outputs": [
    {
     "data": {
      "text/plain": [
       "{'clf__estimator__C': 3.593813663804626,\n",
       " 'clf__estimator__penalty': 'l1',\n",
       " 'tfidf__use_idf': True,\n",
       " 'vect__max_df': 1.0}"
      ]
     },
     "execution_count": 84,
     "metadata": {},
     "output_type": "execute_result"
    }
   ],
   "source": [
    "grid_model_log.best_params_"
   ]
  },
  {
   "cell_type": "code",
   "execution_count": 85,
   "metadata": {
    "ExecuteTime": {
     "end_time": "2019-07-10T09:42:10.669648Z",
     "start_time": "2019-07-10T09:41:32.000978Z"
    }
   },
   "outputs": [],
   "source": [
    " grid_model_log_df = evaluate_model(grid_model_log, X_test, Y_test, col_names)"
   ]
  },
  {
   "cell_type": "markdown",
   "metadata": {},
   "source": [
    "After performing grid search on logistic regression model, the median F1-score has increased by 44%. And it perform so much better than the previous tuned random forest model. So we shall use the tuned Logistic regression model."
   ]
  },
  {
   "cell_type": "code",
   "execution_count": 87,
   "metadata": {
    "ExecuteTime": {
     "end_time": "2019-07-10T09:43:43.902030Z",
     "start_time": "2019-07-10T09:43:43.876664Z"
    }
   },
   "outputs": [
    {
     "data": {
      "text/html": [
       "<div>\n",
       "<style scoped>\n",
       "    .dataframe tbody tr th:only-of-type {\n",
       "        vertical-align: middle;\n",
       "    }\n",
       "\n",
       "    .dataframe tbody tr th {\n",
       "        vertical-align: top;\n",
       "    }\n",
       "\n",
       "    .dataframe thead th {\n",
       "        text-align: right;\n",
       "    }\n",
       "</style>\n",
       "<table border=\"1\" class=\"dataframe\">\n",
       "  <thead>\n",
       "    <tr style=\"text-align: right;\">\n",
       "      <th></th>\n",
       "      <th>Accuracy</th>\n",
       "      <th>Precision</th>\n",
       "      <th>Recall</th>\n",
       "      <th>F1-score</th>\n",
       "    </tr>\n",
       "  </thead>\n",
       "  <tbody>\n",
       "    <tr>\n",
       "      <th>count</th>\n",
       "      <td>35.000000</td>\n",
       "      <td>35.000000</td>\n",
       "      <td>35.000000</td>\n",
       "      <td>35.000000</td>\n",
       "    </tr>\n",
       "    <tr>\n",
       "      <th>mean</th>\n",
       "      <td>0.946673</td>\n",
       "      <td>0.574467</td>\n",
       "      <td>0.365502</td>\n",
       "      <td>0.431982</td>\n",
       "    </tr>\n",
       "    <tr>\n",
       "      <th>std</th>\n",
       "      <td>0.053634</td>\n",
       "      <td>0.224811</td>\n",
       "      <td>0.246051</td>\n",
       "      <td>0.245787</td>\n",
       "    </tr>\n",
       "    <tr>\n",
       "      <th>min</th>\n",
       "      <td>0.759951</td>\n",
       "      <td>0.000000</td>\n",
       "      <td>0.000000</td>\n",
       "      <td>0.000000</td>\n",
       "    </tr>\n",
       "    <tr>\n",
       "      <th>25%</th>\n",
       "      <td>0.943061</td>\n",
       "      <td>0.471459</td>\n",
       "      <td>0.189205</td>\n",
       "      <td>0.275716</td>\n",
       "    </tr>\n",
       "    <tr>\n",
       "      <th>50%</th>\n",
       "      <td>0.959428</td>\n",
       "      <td>0.625000</td>\n",
       "      <td>0.327381</td>\n",
       "      <td>0.416510</td>\n",
       "    </tr>\n",
       "    <tr>\n",
       "      <th>75%</th>\n",
       "      <td>0.983556</td>\n",
       "      <td>0.736281</td>\n",
       "      <td>0.577411</td>\n",
       "      <td>0.650373</td>\n",
       "    </tr>\n",
       "    <tr>\n",
       "      <th>max</th>\n",
       "      <td>0.995851</td>\n",
       "      <td>0.883810</td>\n",
       "      <td>0.916970</td>\n",
       "      <td>0.887582</td>\n",
       "    </tr>\n",
       "  </tbody>\n",
       "</table>\n",
       "</div>"
      ],
      "text/plain": [
       "        Accuracy  Precision     Recall   F1-score\n",
       "count  35.000000  35.000000  35.000000  35.000000\n",
       "mean    0.946673   0.574467   0.365502   0.431982\n",
       "std     0.053634   0.224811   0.246051   0.245787\n",
       "min     0.759951   0.000000   0.000000   0.000000\n",
       "25%     0.943061   0.471459   0.189205   0.275716\n",
       "50%     0.959428   0.625000   0.327381   0.416510\n",
       "75%     0.983556   0.736281   0.577411   0.650373\n",
       "max     0.995851   0.883810   0.916970   0.887582"
      ]
     },
     "execution_count": 87,
     "metadata": {},
     "output_type": "execute_result"
    }
   ],
   "source": [
    "grid_model_log_df.describe()"
   ]
  },
  {
   "cell_type": "code",
   "execution_count": 88,
   "metadata": {
    "ExecuteTime": {
     "end_time": "2019-07-10T09:45:53.084009Z",
     "start_time": "2019-07-10T09:45:53.078153Z"
    }
   },
   "outputs": [
    {
     "data": {
      "text/plain": [
       "0.4451833323502813"
      ]
     },
     "execution_count": 88,
     "metadata": {},
     "output_type": "execute_result"
    }
   ],
   "source": [
    "(grid_model_log_df['F1-score'].mean() - test_log_df['F1-score'].mean()) / test_log_df['F1-score'].mean()"
   ]
  },
  {
   "cell_type": "markdown",
   "metadata": {},
   "source": [
    "### 9. Export your model as a pickle file"
   ]
  },
  {
   "cell_type": "code",
   "execution_count": 92,
   "metadata": {
    "ExecuteTime": {
     "end_time": "2019-07-10T09:51:04.395393Z",
     "start_time": "2019-07-10T09:51:04.173817Z"
    }
   },
   "outputs": [],
   "source": [
    "with open('models/clf.pkl', 'wb') as out_file:\n",
    "    pickle.dump(grid_model_log, out_file )"
   ]
  },
  {
   "cell_type": "markdown",
   "metadata": {},
   "source": [
    "### 10. Use this notebook to complete `train.py`\n",
    "Use the template file attached in the Resources folder to write a script that runs the steps above to create a database and export a model based on a new dataset specified by the user."
   ]
  },
  {
   "cell_type": "code",
   "execution_count": null,
   "metadata": {},
   "outputs": [],
   "source": []
  }
 ],
 "metadata": {
  "kernelspec": {
   "display_name": "Python 3",
   "language": "python",
   "name": "python3"
  },
  "language_info": {
   "codemirror_mode": {
    "name": "ipython",
    "version": 3
   },
   "file_extension": ".py",
   "mimetype": "text/x-python",
   "name": "python",
   "nbconvert_exporter": "python",
   "pygments_lexer": "ipython3",
   "version": "3.7.3"
  },
  "varInspector": {
   "cols": {
    "lenName": 16,
    "lenType": 16,
    "lenVar": 40
   },
   "kernels_config": {
    "python": {
     "delete_cmd_postfix": "",
     "delete_cmd_prefix": "del ",
     "library": "var_list.py",
     "varRefreshCmd": "print(var_dic_list())"
    },
    "r": {
     "delete_cmd_postfix": ") ",
     "delete_cmd_prefix": "rm(",
     "library": "var_list.r",
     "varRefreshCmd": "cat(var_dic_list()) "
    }
   },
   "types_to_exclude": [
    "module",
    "function",
    "builtin_function_or_method",
    "instance",
    "_Feature"
   ],
   "window_display": false
  }
 },
 "nbformat": 4,
 "nbformat_minor": 2
}
